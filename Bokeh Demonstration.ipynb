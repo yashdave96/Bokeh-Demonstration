{
 "cells": [
  {
   "cell_type": "markdown",
   "id": "1f77192b-9506-43ac-9a60-6aa08c853cdd",
   "metadata": {
    "tags": []
   },
   "source": [
    "# Bokeh Demonstration - Analyzing the Dominance of The Men's Tennis \"Big Three\""
   ]
  },
  {
   "cell_type": "markdown",
   "id": "43b0cdee-e042-46f5-bc90-2f84e0bdb530",
   "metadata": {
    "tags": []
   },
   "source": [
    "## Visualization Library"
   ]
  },
  {
   "cell_type": "markdown",
   "id": "e07a37de",
   "metadata": {},
   "source": [
    "The visualization library I will be using for this demonstration will be Bokeh. \n",
    "<br><br>\n",
    "Bokeh uses an underlying JavaScript articture to allow users to make interactive plots using Python. It is a quick and easy user friendly way for developers to add interactive plots into various applications. \n",
    "<br><br>\n",
    "I thought bokeh would be a fun and interesting library to use because it has much of the basic functionality as matplotlib in that it is able to produce the same types of charts, however it has certain interactive features that make the charts a bit more user friendly. For example, there is a toolbar on the side of a bokeh plot, which allows a user to move the plot around or zoom in or out. In addition, you can add in widgets and other interactive features, like tabs to switch between plots, or a drop down menu. \n",
    "<br><br>\n",
    "Bokeh also integrates well with Jupyter, it just requires an import in order to view bokeh plots in the Jupyter environment. \n",
    "<br><br>\n",
    "To install bokeh:\n",
    "<br>\n",
    "Pip Installation:  `pip install bokeh`\n",
    "<br>\n",
    "Conda Installation:  `conda install bokeh`\n",
    "\n",
    "\n"
   ]
  },
  {
   "cell_type": "markdown",
   "id": "b9e844c0-8d2f-489b-8223-b3682f7816f3",
   "metadata": {},
   "source": [
    "## Demonstration"
   ]
  },
  {
   "cell_type": "markdown",
   "id": "797603d9",
   "metadata": {},
   "source": [
    "For this demonstration, I thought it would be fun to look at data from my favorite sport, tennis. I have been playing and following tennis since I was 8 years old. The era of men's tennis that I grew up watching has come to be known as the era of the Roger Federer, Rafael Nadal, and Novak Djokovic, also referred to as the \"Big Three\". For nearly 20 years they have dominated the sport, breaking records and firmly cementing themselves as the three greatest players ever to play men's tennis. \n",
    "<br><br>\n",
    "I thought it would be interesting to use bokeh visualize the Big Three's statistics  from the four Grand Slam tournaments: The Australian Open, French Open, Wimbledon, and the U.S. Open. "
   ]
  },
  {
   "cell_type": "code",
   "execution_count": 1,
   "id": "73202bcd-14c5-46e3-a611-c7d13f49e9d2",
   "metadata": {},
   "outputs": [],
   "source": [
    "import pandas as pd\n",
    "import numpy as np\n",
    "from bokeh.plotting import figure, show\n",
    "from bokeh.io import output_notebook             #Import this to show bokeh visualizations in Jupyter Notebook"
   ]
  },
  {
   "cell_type": "code",
   "execution_count": 2,
   "id": "35fcab65-de6b-4956-a634-0a3e841c153c",
   "metadata": {},
   "outputs": [
    {
     "data": {
      "text/html": [
       "<style>\n",
       "        .bk-notebook-logo {\n",
       "            display: block;\n",
       "            width: 20px;\n",
       "            height: 20px;\n",
       "            background-image: url(data:image/png;base64,iVBORw0KGgoAAAANSUhEUgAAABQAAAAUCAYAAACNiR0NAAAABHNCSVQICAgIfAhkiAAAAAlwSFlzAAALEgAACxIB0t1+/AAAABx0RVh0U29mdHdhcmUAQWRvYmUgRmlyZXdvcmtzIENTNui8sowAAAOkSURBVDiNjZRtaJVlGMd/1/08zzln5zjP1LWcU9N0NkN8m2CYjpgQYQXqSs0I84OLIC0hkEKoPtiH3gmKoiJDU7QpLgoLjLIQCpEsNJ1vqUOdO7ppbuec5+V+rj4ctwzd8IIbbi6u+8f1539dt3A78eXC7QizUF7gyV1fD1Yqg4JWz84yffhm0qkFqBogB9rM8tZdtwVsPUhWhGcFJngGeWrPzHm5oaMmkfEg1usvLFyc8jLRqDOMru7AyC8saQr7GG7f5fvDeH7Ej8CM66nIF+8yngt6HWaKh7k49Soy9nXurCi1o3qUbS3zWfrYeQDTB/Qj6kX6Ybhw4B+bOYoLKCC9H3Nu/leUTZ1JdRWkkn2ldcCamzrcf47KKXdAJllSlxAOkRgyHsGC/zRday5Qld9DyoM4/q/rUoy/CXh3jzOu3bHUVZeU+DEn8FInkPBFlu3+nW3Nw0mk6vCDiWg8CeJaxEwuHS3+z5RgY+YBR6V1Z1nxSOfoaPa4LASWxxdNp+VWTk7+4vzaou8v8PN+xo+KY2xsw6une2frhw05CTYOmQvsEhjhWjn0bmXPjpE1+kplmmkP3suftwTubK9Vq22qKmrBhpY4jvd5afdRA3wGjFAgcnTK2s4hY0/GPNIb0nErGMCRxWOOX64Z8RAC4oCXdklmEvcL8o0BfkNK4lUg9HTl+oPlQxdNo3Mg4Nv175e/1LDGzZen30MEjRUtmXSfiTVu1kK8W4txyV6BMKlbgk3lMwYCiusNy9fVfvvwMxv8Ynl6vxoByANLTWplvuj/nF9m2+PDtt1eiHPBr1oIfhCChQMBw6Aw0UulqTKZdfVvfG7VcfIqLG9bcldL/+pdWTLxLUy8Qq38heUIjh4XlzZxzQm19lLFlr8vdQ97rjZVOLf8nclzckbcD4wxXMidpX30sFd37Fv/GtwwhzhxGVAprjbg0gCAEeIgwCZyTV2Z1REEW8O4py0wsjeloKoMr6iCY6dP92H6Vw/oTyICIthibxjm/DfN9lVz8IqtqKYLUXfoKVMVQVVJOElGjrnnUt9T9wbgp8AyYKaGlqingHZU/uG2NTZSVqwHQTWkx9hxjkpWDaCg6Ckj5qebgBVbT3V3NNXMSiWSDdGV3hrtzla7J+duwPOToIg42ChPQOQjspnSlp1V+Gjdged7+8UN5CRAV7a5EdFNwCjEaBR27b3W890TE7g24NAP/mMDXRWrGoFPQI9ls/MWO2dWFAar/xcOIImbbpA3zgAAAABJRU5ErkJggg==);\n",
       "        }\n",
       "    </style>\n",
       "    <div>\n",
       "        <a href=\"https://bokeh.org\" target=\"_blank\" class=\"bk-notebook-logo\"></a>\n",
       "        <span id=\"aa880492-d4c0-4b4f-9047-bf03fc9d8949\">Loading BokehJS ...</span>\n",
       "    </div>\n"
      ]
     },
     "metadata": {},
     "output_type": "display_data"
    },
    {
     "data": {
      "application/javascript": [
       "(function(root) {\n",
       "  function now() {\n",
       "    return new Date();\n",
       "  }\n",
       "\n",
       "  const force = true;\n",
       "\n",
       "  if (typeof root._bokeh_onload_callbacks === \"undefined\" || force === true) {\n",
       "    root._bokeh_onload_callbacks = [];\n",
       "    root._bokeh_is_loading = undefined;\n",
       "  }\n",
       "\n",
       "const JS_MIME_TYPE = 'application/javascript';\n",
       "  const HTML_MIME_TYPE = 'text/html';\n",
       "  const EXEC_MIME_TYPE = 'application/vnd.bokehjs_exec.v0+json';\n",
       "  const CLASS_NAME = 'output_bokeh rendered_html';\n",
       "\n",
       "  /**\n",
       "   * Render data to the DOM node\n",
       "   */\n",
       "  function render(props, node) {\n",
       "    const script = document.createElement(\"script\");\n",
       "    node.appendChild(script);\n",
       "  }\n",
       "\n",
       "  /**\n",
       "   * Handle when an output is cleared or removed\n",
       "   */\n",
       "  function handleClearOutput(event, handle) {\n",
       "    const cell = handle.cell;\n",
       "\n",
       "    const id = cell.output_area._bokeh_element_id;\n",
       "    const server_id = cell.output_area._bokeh_server_id;\n",
       "    // Clean up Bokeh references\n",
       "    if (id != null && id in Bokeh.index) {\n",
       "      Bokeh.index[id].model.document.clear();\n",
       "      delete Bokeh.index[id];\n",
       "    }\n",
       "\n",
       "    if (server_id !== undefined) {\n",
       "      // Clean up Bokeh references\n",
       "      const cmd_clean = \"from bokeh.io.state import curstate; print(curstate().uuid_to_server['\" + server_id + \"'].get_sessions()[0].document.roots[0]._id)\";\n",
       "      cell.notebook.kernel.execute(cmd_clean, {\n",
       "        iopub: {\n",
       "          output: function(msg) {\n",
       "            const id = msg.content.text.trim();\n",
       "            if (id in Bokeh.index) {\n",
       "              Bokeh.index[id].model.document.clear();\n",
       "              delete Bokeh.index[id];\n",
       "            }\n",
       "          }\n",
       "        }\n",
       "      });\n",
       "      // Destroy server and session\n",
       "      const cmd_destroy = \"import bokeh.io.notebook as ion; ion.destroy_server('\" + server_id + \"')\";\n",
       "      cell.notebook.kernel.execute(cmd_destroy);\n",
       "    }\n",
       "  }\n",
       "\n",
       "  /**\n",
       "   * Handle when a new output is added\n",
       "   */\n",
       "  function handleAddOutput(event, handle) {\n",
       "    const output_area = handle.output_area;\n",
       "    const output = handle.output;\n",
       "\n",
       "    // limit handleAddOutput to display_data with EXEC_MIME_TYPE content only\n",
       "    if ((output.output_type != \"display_data\") || (!Object.prototype.hasOwnProperty.call(output.data, EXEC_MIME_TYPE))) {\n",
       "      return\n",
       "    }\n",
       "\n",
       "    const toinsert = output_area.element.find(\".\" + CLASS_NAME.split(' ')[0]);\n",
       "\n",
       "    if (output.metadata[EXEC_MIME_TYPE][\"id\"] !== undefined) {\n",
       "      toinsert[toinsert.length - 1].firstChild.textContent = output.data[JS_MIME_TYPE];\n",
       "      // store reference to embed id on output_area\n",
       "      output_area._bokeh_element_id = output.metadata[EXEC_MIME_TYPE][\"id\"];\n",
       "    }\n",
       "    if (output.metadata[EXEC_MIME_TYPE][\"server_id\"] !== undefined) {\n",
       "      const bk_div = document.createElement(\"div\");\n",
       "      bk_div.innerHTML = output.data[HTML_MIME_TYPE];\n",
       "      const script_attrs = bk_div.children[0].attributes;\n",
       "      for (let i = 0; i < script_attrs.length; i++) {\n",
       "        toinsert[toinsert.length - 1].firstChild.setAttribute(script_attrs[i].name, script_attrs[i].value);\n",
       "        toinsert[toinsert.length - 1].firstChild.textContent = bk_div.children[0].textContent\n",
       "      }\n",
       "      // store reference to server id on output_area\n",
       "      output_area._bokeh_server_id = output.metadata[EXEC_MIME_TYPE][\"server_id\"];\n",
       "    }\n",
       "  }\n",
       "\n",
       "  function register_renderer(events, OutputArea) {\n",
       "\n",
       "    function append_mime(data, metadata, element) {\n",
       "      // create a DOM node to render to\n",
       "      const toinsert = this.create_output_subarea(\n",
       "        metadata,\n",
       "        CLASS_NAME,\n",
       "        EXEC_MIME_TYPE\n",
       "      );\n",
       "      this.keyboard_manager.register_events(toinsert);\n",
       "      // Render to node\n",
       "      const props = {data: data, metadata: metadata[EXEC_MIME_TYPE]};\n",
       "      render(props, toinsert[toinsert.length - 1]);\n",
       "      element.append(toinsert);\n",
       "      return toinsert\n",
       "    }\n",
       "\n",
       "    /* Handle when an output is cleared or removed */\n",
       "    events.on('clear_output.CodeCell', handleClearOutput);\n",
       "    events.on('delete.Cell', handleClearOutput);\n",
       "\n",
       "    /* Handle when a new output is added */\n",
       "    events.on('output_added.OutputArea', handleAddOutput);\n",
       "\n",
       "    /**\n",
       "     * Register the mime type and append_mime function with output_area\n",
       "     */\n",
       "    OutputArea.prototype.register_mime_type(EXEC_MIME_TYPE, append_mime, {\n",
       "      /* Is output safe? */\n",
       "      safe: true,\n",
       "      /* Index of renderer in `output_area.display_order` */\n",
       "      index: 0\n",
       "    });\n",
       "  }\n",
       "\n",
       "  // register the mime type if in Jupyter Notebook environment and previously unregistered\n",
       "  if (root.Jupyter !== undefined) {\n",
       "    const events = require('base/js/events');\n",
       "    const OutputArea = require('notebook/js/outputarea').OutputArea;\n",
       "\n",
       "    if (OutputArea.prototype.mime_types().indexOf(EXEC_MIME_TYPE) == -1) {\n",
       "      register_renderer(events, OutputArea);\n",
       "    }\n",
       "  }\n",
       "  if (typeof (root._bokeh_timeout) === \"undefined\" || force === true) {\n",
       "    root._bokeh_timeout = Date.now() + 5000;\n",
       "    root._bokeh_failed_load = false;\n",
       "  }\n",
       "\n",
       "  const NB_LOAD_WARNING = {'data': {'text/html':\n",
       "     \"<div style='background-color: #fdd'>\\n\"+\n",
       "     \"<p>\\n\"+\n",
       "     \"BokehJS does not appear to have successfully loaded. If loading BokehJS from CDN, this \\n\"+\n",
       "     \"may be due to a slow or bad network connection. Possible fixes:\\n\"+\n",
       "     \"</p>\\n\"+\n",
       "     \"<ul>\\n\"+\n",
       "     \"<li>re-rerun `output_notebook()` to attempt to load from CDN again, or</li>\\n\"+\n",
       "     \"<li>use INLINE resources instead, as so:</li>\\n\"+\n",
       "     \"</ul>\\n\"+\n",
       "     \"<code>\\n\"+\n",
       "     \"from bokeh.resources import INLINE\\n\"+\n",
       "     \"output_notebook(resources=INLINE)\\n\"+\n",
       "     \"</code>\\n\"+\n",
       "     \"</div>\"}};\n",
       "\n",
       "  function display_loaded() {\n",
       "    const el = document.getElementById(\"aa880492-d4c0-4b4f-9047-bf03fc9d8949\");\n",
       "    if (el != null) {\n",
       "      el.textContent = \"BokehJS is loading...\";\n",
       "    }\n",
       "    if (root.Bokeh !== undefined) {\n",
       "      if (el != null) {\n",
       "        el.textContent = \"BokehJS \" + root.Bokeh.version + \" successfully loaded.\";\n",
       "      }\n",
       "    } else if (Date.now() < root._bokeh_timeout) {\n",
       "      setTimeout(display_loaded, 100)\n",
       "    }\n",
       "  }\n",
       "\n",
       "  function run_callbacks() {\n",
       "    try {\n",
       "      root._bokeh_onload_callbacks.forEach(function(callback) {\n",
       "        if (callback != null)\n",
       "          callback();\n",
       "      });\n",
       "    } finally {\n",
       "      delete root._bokeh_onload_callbacks\n",
       "    }\n",
       "    console.debug(\"Bokeh: all callbacks have finished\");\n",
       "  }\n",
       "\n",
       "  function load_libs(css_urls, js_urls, callback) {\n",
       "    if (css_urls == null) css_urls = [];\n",
       "    if (js_urls == null) js_urls = [];\n",
       "\n",
       "    root._bokeh_onload_callbacks.push(callback);\n",
       "    if (root._bokeh_is_loading > 0) {\n",
       "      console.debug(\"Bokeh: BokehJS is being loaded, scheduling callback at\", now());\n",
       "      return null;\n",
       "    }\n",
       "    if (js_urls == null || js_urls.length === 0) {\n",
       "      run_callbacks();\n",
       "      return null;\n",
       "    }\n",
       "    console.debug(\"Bokeh: BokehJS not loaded, scheduling load and callback at\", now());\n",
       "    root._bokeh_is_loading = css_urls.length + js_urls.length;\n",
       "\n",
       "    function on_load() {\n",
       "      root._bokeh_is_loading--;\n",
       "      if (root._bokeh_is_loading === 0) {\n",
       "        console.debug(\"Bokeh: all BokehJS libraries/stylesheets loaded\");\n",
       "        run_callbacks()\n",
       "      }\n",
       "    }\n",
       "\n",
       "    function on_error(url) {\n",
       "      console.error(\"failed to load \" + url);\n",
       "    }\n",
       "\n",
       "    for (let i = 0; i < css_urls.length; i++) {\n",
       "      const url = css_urls[i];\n",
       "      const element = document.createElement(\"link\");\n",
       "      element.onload = on_load;\n",
       "      element.onerror = on_error.bind(null, url);\n",
       "      element.rel = \"stylesheet\";\n",
       "      element.type = \"text/css\";\n",
       "      element.href = url;\n",
       "      console.debug(\"Bokeh: injecting link tag for BokehJS stylesheet: \", url);\n",
       "      document.body.appendChild(element);\n",
       "    }\n",
       "\n",
       "    for (let i = 0; i < js_urls.length; i++) {\n",
       "      const url = js_urls[i];\n",
       "      const element = document.createElement('script');\n",
       "      element.onload = on_load;\n",
       "      element.onerror = on_error.bind(null, url);\n",
       "      element.async = false;\n",
       "      element.src = url;\n",
       "      console.debug(\"Bokeh: injecting script tag for BokehJS library: \", url);\n",
       "      document.head.appendChild(element);\n",
       "    }\n",
       "  };\n",
       "\n",
       "  function inject_raw_css(css) {\n",
       "    const element = document.createElement(\"style\");\n",
       "    element.appendChild(document.createTextNode(css));\n",
       "    document.body.appendChild(element);\n",
       "  }\n",
       "\n",
       "  const js_urls = [\"https://cdn.bokeh.org/bokeh/release/bokeh-3.2.1.min.js\", \"https://cdn.bokeh.org/bokeh/release/bokeh-gl-3.2.1.min.js\", \"https://cdn.bokeh.org/bokeh/release/bokeh-widgets-3.2.1.min.js\", \"https://cdn.bokeh.org/bokeh/release/bokeh-tables-3.2.1.min.js\", \"https://cdn.bokeh.org/bokeh/release/bokeh-mathjax-3.2.1.min.js\"];\n",
       "  const css_urls = [];\n",
       "\n",
       "  const inline_js = [    function(Bokeh) {\n",
       "      Bokeh.set_log_level(\"info\");\n",
       "    },\n",
       "function(Bokeh) {\n",
       "    }\n",
       "  ];\n",
       "\n",
       "  function run_inline_js() {\n",
       "    if (root.Bokeh !== undefined || force === true) {\n",
       "          for (let i = 0; i < inline_js.length; i++) {\n",
       "      inline_js[i].call(root, root.Bokeh);\n",
       "    }\n",
       "if (force === true) {\n",
       "        display_loaded();\n",
       "      }} else if (Date.now() < root._bokeh_timeout) {\n",
       "      setTimeout(run_inline_js, 100);\n",
       "    } else if (!root._bokeh_failed_load) {\n",
       "      console.log(\"Bokeh: BokehJS failed to load within specified timeout.\");\n",
       "      root._bokeh_failed_load = true;\n",
       "    } else if (force !== true) {\n",
       "      const cell = $(document.getElementById(\"aa880492-d4c0-4b4f-9047-bf03fc9d8949\")).parents('.cell').data().cell;\n",
       "      cell.output_area.append_execute_result(NB_LOAD_WARNING)\n",
       "    }\n",
       "  }\n",
       "\n",
       "  if (root._bokeh_is_loading === 0) {\n",
       "    console.debug(\"Bokeh: BokehJS loaded, going straight to plotting\");\n",
       "    run_inline_js();\n",
       "  } else {\n",
       "    load_libs(css_urls, js_urls, function() {\n",
       "      console.debug(\"Bokeh: BokehJS plotting callback run at\", now());\n",
       "      run_inline_js();\n",
       "    });\n",
       "  }\n",
       "}(window));"
      ],
      "application/vnd.bokehjs_load.v0+json": "(function(root) {\n  function now() {\n    return new Date();\n  }\n\n  const force = true;\n\n  if (typeof root._bokeh_onload_callbacks === \"undefined\" || force === true) {\n    root._bokeh_onload_callbacks = [];\n    root._bokeh_is_loading = undefined;\n  }\n\n\n  if (typeof (root._bokeh_timeout) === \"undefined\" || force === true) {\n    root._bokeh_timeout = Date.now() + 5000;\n    root._bokeh_failed_load = false;\n  }\n\n  const NB_LOAD_WARNING = {'data': {'text/html':\n     \"<div style='background-color: #fdd'>\\n\"+\n     \"<p>\\n\"+\n     \"BokehJS does not appear to have successfully loaded. If loading BokehJS from CDN, this \\n\"+\n     \"may be due to a slow or bad network connection. Possible fixes:\\n\"+\n     \"</p>\\n\"+\n     \"<ul>\\n\"+\n     \"<li>re-rerun `output_notebook()` to attempt to load from CDN again, or</li>\\n\"+\n     \"<li>use INLINE resources instead, as so:</li>\\n\"+\n     \"</ul>\\n\"+\n     \"<code>\\n\"+\n     \"from bokeh.resources import INLINE\\n\"+\n     \"output_notebook(resources=INLINE)\\n\"+\n     \"</code>\\n\"+\n     \"</div>\"}};\n\n  function display_loaded() {\n    const el = document.getElementById(\"aa880492-d4c0-4b4f-9047-bf03fc9d8949\");\n    if (el != null) {\n      el.textContent = \"BokehJS is loading...\";\n    }\n    if (root.Bokeh !== undefined) {\n      if (el != null) {\n        el.textContent = \"BokehJS \" + root.Bokeh.version + \" successfully loaded.\";\n      }\n    } else if (Date.now() < root._bokeh_timeout) {\n      setTimeout(display_loaded, 100)\n    }\n  }\n\n  function run_callbacks() {\n    try {\n      root._bokeh_onload_callbacks.forEach(function(callback) {\n        if (callback != null)\n          callback();\n      });\n    } finally {\n      delete root._bokeh_onload_callbacks\n    }\n    console.debug(\"Bokeh: all callbacks have finished\");\n  }\n\n  function load_libs(css_urls, js_urls, callback) {\n    if (css_urls == null) css_urls = [];\n    if (js_urls == null) js_urls = [];\n\n    root._bokeh_onload_callbacks.push(callback);\n    if (root._bokeh_is_loading > 0) {\n      console.debug(\"Bokeh: BokehJS is being loaded, scheduling callback at\", now());\n      return null;\n    }\n    if (js_urls == null || js_urls.length === 0) {\n      run_callbacks();\n      return null;\n    }\n    console.debug(\"Bokeh: BokehJS not loaded, scheduling load and callback at\", now());\n    root._bokeh_is_loading = css_urls.length + js_urls.length;\n\n    function on_load() {\n      root._bokeh_is_loading--;\n      if (root._bokeh_is_loading === 0) {\n        console.debug(\"Bokeh: all BokehJS libraries/stylesheets loaded\");\n        run_callbacks()\n      }\n    }\n\n    function on_error(url) {\n      console.error(\"failed to load \" + url);\n    }\n\n    for (let i = 0; i < css_urls.length; i++) {\n      const url = css_urls[i];\n      const element = document.createElement(\"link\");\n      element.onload = on_load;\n      element.onerror = on_error.bind(null, url);\n      element.rel = \"stylesheet\";\n      element.type = \"text/css\";\n      element.href = url;\n      console.debug(\"Bokeh: injecting link tag for BokehJS stylesheet: \", url);\n      document.body.appendChild(element);\n    }\n\n    for (let i = 0; i < js_urls.length; i++) {\n      const url = js_urls[i];\n      const element = document.createElement('script');\n      element.onload = on_load;\n      element.onerror = on_error.bind(null, url);\n      element.async = false;\n      element.src = url;\n      console.debug(\"Bokeh: injecting script tag for BokehJS library: \", url);\n      document.head.appendChild(element);\n    }\n  };\n\n  function inject_raw_css(css) {\n    const element = document.createElement(\"style\");\n    element.appendChild(document.createTextNode(css));\n    document.body.appendChild(element);\n  }\n\n  const js_urls = [\"https://cdn.bokeh.org/bokeh/release/bokeh-3.2.1.min.js\", \"https://cdn.bokeh.org/bokeh/release/bokeh-gl-3.2.1.min.js\", \"https://cdn.bokeh.org/bokeh/release/bokeh-widgets-3.2.1.min.js\", \"https://cdn.bokeh.org/bokeh/release/bokeh-tables-3.2.1.min.js\", \"https://cdn.bokeh.org/bokeh/release/bokeh-mathjax-3.2.1.min.js\"];\n  const css_urls = [];\n\n  const inline_js = [    function(Bokeh) {\n      Bokeh.set_log_level(\"info\");\n    },\nfunction(Bokeh) {\n    }\n  ];\n\n  function run_inline_js() {\n    if (root.Bokeh !== undefined || force === true) {\n          for (let i = 0; i < inline_js.length; i++) {\n      inline_js[i].call(root, root.Bokeh);\n    }\nif (force === true) {\n        display_loaded();\n      }} else if (Date.now() < root._bokeh_timeout) {\n      setTimeout(run_inline_js, 100);\n    } else if (!root._bokeh_failed_load) {\n      console.log(\"Bokeh: BokehJS failed to load within specified timeout.\");\n      root._bokeh_failed_load = true;\n    } else if (force !== true) {\n      const cell = $(document.getElementById(\"aa880492-d4c0-4b4f-9047-bf03fc9d8949\")).parents('.cell').data().cell;\n      cell.output_area.append_execute_result(NB_LOAD_WARNING)\n    }\n  }\n\n  if (root._bokeh_is_loading === 0) {\n    console.debug(\"Bokeh: BokehJS loaded, going straight to plotting\");\n    run_inline_js();\n  } else {\n    load_libs(css_urls, js_urls, function() {\n      console.debug(\"Bokeh: BokehJS plotting callback run at\", now());\n      run_inline_js();\n    });\n  }\n}(window));"
     },
     "metadata": {},
     "output_type": "display_data"
    }
   ],
   "source": [
    "output_notebook()                                #Run this function to show bokeh visualizations in Jupyter Notebook"
   ]
  },
  {
   "cell_type": "markdown",
   "id": "be624fde",
   "metadata": {},
   "source": [
    "The source of the data set I will be using is: https://www.kaggle.com/datasets/wonduk/mens-tennis-grand-slam-winner-dataset"
   ]
  },
  {
   "cell_type": "code",
   "execution_count": 3,
   "id": "67be6e22",
   "metadata": {},
   "outputs": [],
   "source": [
    "df = pd.read_csv('Mens_Tennis_Grand_Slam_Winner.csv', header = 0)"
   ]
  },
  {
   "cell_type": "markdown",
   "id": "7bb657b1",
   "metadata": {},
   "source": [
    "To start, let's visualize just how dominant the Big Three have been compared to their competition. To do this, I will begin by making a bar chart showing the total number of Grand Slam wins for the Big Three, as well as for Andy Murray and Stan Wawrinka, the only two players able to win multiple Grand Slams during the Big Three era."
   ]
  },
  {
   "cell_type": "code",
   "execution_count": 4,
   "id": "baf7f9bd",
   "metadata": {},
   "outputs": [
    {
     "data": {
      "text/html": [
       "\n",
       "  <div id=\"be752c81-5add-4d97-8731-c26402fbc197\" data-root-id=\"p1001\" style=\"display: contents;\"></div>\n"
      ]
     },
     "metadata": {},
     "output_type": "display_data"
    },
    {
     "data": {
      "application/javascript": [
       "(function(root) {\n",
       "  function embed_document(root) {\n",
       "  const docs_json = {\"bd337b2c-691a-41d8-ba95-ff0be66044ee\":{\"version\":\"3.2.1\",\"title\":\"Bokeh Application\",\"roots\":[{\"type\":\"object\",\"name\":\"Figure\",\"id\":\"p1001\",\"attributes\":{\"height\":400,\"x_range\":{\"type\":\"object\",\"name\":\"FactorRange\",\"id\":\"p1011\",\"attributes\":{\"factors\":[\"Roger Federer\",\"Rafael Nadal\",\"Novak Djokovic\",\"Andy Murray\",\"Stan Wawrinka\"]}},\"y_range\":{\"type\":\"object\",\"name\":\"DataRange1d\",\"id\":\"p1003\"},\"x_scale\":{\"type\":\"object\",\"name\":\"CategoricalScale\",\"id\":\"p1012\"},\"y_scale\":{\"type\":\"object\",\"name\":\"LinearScale\",\"id\":\"p1013\"},\"title\":{\"type\":\"object\",\"name\":\"Title\",\"id\":\"p1004\",\"attributes\":{\"text\":\"Top 5 Grand Slam Winners 2003-2022\"}},\"renderers\":[{\"type\":\"object\",\"name\":\"GlyphRenderer\",\"id\":\"p1037\",\"attributes\":{\"data_source\":{\"type\":\"object\",\"name\":\"ColumnDataSource\",\"id\":\"p1031\",\"attributes\":{\"selected\":{\"type\":\"object\",\"name\":\"Selection\",\"id\":\"p1032\",\"attributes\":{\"indices\":[],\"line_indices\":[]}},\"selection_policy\":{\"type\":\"object\",\"name\":\"UnionRenderers\",\"id\":\"p1033\"},\"data\":{\"type\":\"map\",\"entries\":[[\"x\",[\"Roger Federer\",\"Rafael Nadal\",\"Novak Djokovic\",\"Andy Murray\",\"Stan Wawrinka\"]],[\"top\",{\"type\":\"ndarray\",\"array\":{\"type\":\"bytes\",\"data\":\"FAAAABYAAAAUAAAAAwAAAAMAAAA=\"},\"shape\":[5],\"dtype\":\"int32\",\"order\":\"little\"}]]}}},\"view\":{\"type\":\"object\",\"name\":\"CDSView\",\"id\":\"p1038\",\"attributes\":{\"filter\":{\"type\":\"object\",\"name\":\"AllIndices\",\"id\":\"p1039\"}}},\"glyph\":{\"type\":\"object\",\"name\":\"VBar\",\"id\":\"p1034\",\"attributes\":{\"x\":{\"type\":\"field\",\"field\":\"x\"},\"width\":{\"type\":\"value\",\"value\":0.9},\"top\":{\"type\":\"field\",\"field\":\"top\"},\"line_color\":{\"type\":\"value\",\"value\":\"#1f77b4\"},\"fill_color\":{\"type\":\"value\",\"value\":\"#1f77b4\"}}},\"nonselection_glyph\":{\"type\":\"object\",\"name\":\"VBar\",\"id\":\"p1035\",\"attributes\":{\"x\":{\"type\":\"field\",\"field\":\"x\"},\"width\":{\"type\":\"value\",\"value\":0.9},\"top\":{\"type\":\"field\",\"field\":\"top\"},\"line_color\":{\"type\":\"value\",\"value\":\"#1f77b4\"},\"line_alpha\":{\"type\":\"value\",\"value\":0.1},\"fill_color\":{\"type\":\"value\",\"value\":\"#1f77b4\"},\"fill_alpha\":{\"type\":\"value\",\"value\":0.1},\"hatch_alpha\":{\"type\":\"value\",\"value\":0.1}}},\"muted_glyph\":{\"type\":\"object\",\"name\":\"VBar\",\"id\":\"p1036\",\"attributes\":{\"x\":{\"type\":\"field\",\"field\":\"x\"},\"width\":{\"type\":\"value\",\"value\":0.9},\"top\":{\"type\":\"field\",\"field\":\"top\"},\"line_color\":{\"type\":\"value\",\"value\":\"#1f77b4\"},\"line_alpha\":{\"type\":\"value\",\"value\":0.2},\"fill_color\":{\"type\":\"value\",\"value\":\"#1f77b4\"},\"fill_alpha\":{\"type\":\"value\",\"value\":0.2},\"hatch_alpha\":{\"type\":\"value\",\"value\":0.2}}}}}],\"toolbar\":{\"type\":\"object\",\"name\":\"Toolbar\",\"id\":\"p1010\",\"attributes\":{\"tools\":[{\"type\":\"object\",\"name\":\"PanTool\",\"id\":\"p1024\"},{\"type\":\"object\",\"name\":\"WheelZoomTool\",\"id\":\"p1025\"},{\"type\":\"object\",\"name\":\"BoxZoomTool\",\"id\":\"p1026\",\"attributes\":{\"overlay\":{\"type\":\"object\",\"name\":\"BoxAnnotation\",\"id\":\"p1027\",\"attributes\":{\"syncable\":false,\"level\":\"overlay\",\"visible\":false,\"left_units\":\"canvas\",\"right_units\":\"canvas\",\"bottom_units\":\"canvas\",\"top_units\":\"canvas\",\"line_color\":\"black\",\"line_alpha\":1.0,\"line_width\":2,\"line_dash\":[4,4],\"fill_color\":\"lightgrey\",\"fill_alpha\":0.5}}}},{\"type\":\"object\",\"name\":\"SaveTool\",\"id\":\"p1028\"},{\"type\":\"object\",\"name\":\"ResetTool\",\"id\":\"p1029\"},{\"type\":\"object\",\"name\":\"HelpTool\",\"id\":\"p1030\"}]}},\"left\":[{\"type\":\"object\",\"name\":\"LinearAxis\",\"id\":\"p1019\",\"attributes\":{\"ticker\":{\"type\":\"object\",\"name\":\"BasicTicker\",\"id\":\"p1020\",\"attributes\":{\"mantissas\":[1,2,5]}},\"formatter\":{\"type\":\"object\",\"name\":\"BasicTickFormatter\",\"id\":\"p1021\"},\"major_label_policy\":{\"type\":\"object\",\"name\":\"AllLabels\",\"id\":\"p1022\"}}}],\"below\":[{\"type\":\"object\",\"name\":\"CategoricalAxis\",\"id\":\"p1014\",\"attributes\":{\"ticker\":{\"type\":\"object\",\"name\":\"CategoricalTicker\",\"id\":\"p1015\"},\"formatter\":{\"type\":\"object\",\"name\":\"CategoricalTickFormatter\",\"id\":\"p1016\"},\"major_label_policy\":{\"type\":\"object\",\"name\":\"AllLabels\",\"id\":\"p1017\"}}}],\"center\":[{\"type\":\"object\",\"name\":\"Grid\",\"id\":\"p1018\",\"attributes\":{\"axis\":{\"id\":\"p1014\"}}},{\"type\":\"object\",\"name\":\"Grid\",\"id\":\"p1023\",\"attributes\":{\"dimension\":1,\"axis\":{\"id\":\"p1019\"}}}]}}]}};\n",
       "  const render_items = [{\"docid\":\"bd337b2c-691a-41d8-ba95-ff0be66044ee\",\"roots\":{\"p1001\":\"be752c81-5add-4d97-8731-c26402fbc197\"},\"root_ids\":[\"p1001\"]}];\n",
       "  root.Bokeh.embed.embed_items_notebook(docs_json, render_items);\n",
       "  }\n",
       "  if (root.Bokeh !== undefined) {\n",
       "    embed_document(root);\n",
       "  } else {\n",
       "    let attempts = 0;\n",
       "    const timer = setInterval(function(root) {\n",
       "      if (root.Bokeh !== undefined) {\n",
       "        clearInterval(timer);\n",
       "        embed_document(root);\n",
       "      } else {\n",
       "        attempts++;\n",
       "        if (attempts > 100) {\n",
       "          clearInterval(timer);\n",
       "          console.log(\"Bokeh: ERROR: Unable to run BokehJS code because BokehJS library is missing\");\n",
       "        }\n",
       "      }\n",
       "    }, 10, root)\n",
       "  }\n",
       "})(window);"
      ],
      "application/vnd.bokehjs_exec.v0+json": ""
     },
     "metadata": {
      "application/vnd.bokehjs_exec.v0+json": {
       "id": "p1001"
      }
     },
     "output_type": "display_data"
    }
   ],
   "source": [
    "\n",
    "players = ['Roger Federer', 'Rafael Nadal', 'Novak Djokovic', 'Andy Murray', 'Stan Wawrinka']\n",
    "nadal_wins = df[df['WINNER'] =='Rafael Nadal']     \n",
    "\n",
    "federer_wins = df[df['WINNER'] =='Roger Federer']  \n",
    "\n",
    "djokovic_wins = df[df['WINNER'] =='Novak Djokovic'] \n",
    "\n",
    "murray_wins = df[df['WINNER'] =='Andy Murray']  \n",
    "\n",
    "wawrinka_wins = df[df['WINNER'] =='Stan Wawrinka']    \n",
    "\n",
    "big_five = pd.DataFrame({'Player': players, 'Grand Slam Wins': [len(federer_wins), len(nadal_wins), len(djokovic_wins),\n",
    "                                                                len(murray_wins), len(wawrinka_wins)]})\n",
    "\n",
    "p = figure(x_range = players, height = 400, title = 'Top 5 Grand Slam Winners 2003-2022')\n",
    "p.vbar(x = players, top = big_five['Grand Slam Wins'], width = 0.9)\n",
    "\n",
    "show(p)\n"
   ]
  },
  {
   "cell_type": "markdown",
   "id": "a059e7a7",
   "metadata": {},
   "source": [
    "As we can see, the Big Three have signficantly more Grand Slam titles than Murray and Wawrinka.\n",
    "This bar chart allows us to visualize just how far from the pack the \"Big Three\" has separated themselves in terms\n",
    "of grand slam titles, and gives us a nice visual depiction of this dominance.\n",
    "<br><br>\n",
    "Now lets take a deeper look into the specific data for Grand Slam wins for Federer, Nadal and Djokovic. I will do this by making a bar chart showing the number of Grand Slams won by each player every year from 2003-2022. I will also add tabs to this bar chart using the tab widget feature of bokeh, so that I\n",
    "can switch back and forth between the three bar charts."
   ]
  },
  {
   "cell_type": "code",
   "execution_count": 5,
   "id": "09bcfe12",
   "metadata": {},
   "outputs": [],
   "source": [
    "#First let's filter the data and group by the players we are interested in and how many wins they have per year\n",
    "df_big_three = df[(df['WINNER'] == 'Rafael Nadal') | (df['WINNER'] == 'Roger Federer') | \n",
    "                  (df['WINNER'] == 'Novak Djokovic')]\n",
    "grouped = pd.DataFrame(df_big_three.groupby(['YEAR', 'WINNER']).TOURNAMENT.count()).reset_index()"
   ]
  },
  {
   "cell_type": "code",
   "execution_count": 6,
   "id": "09f73bc8",
   "metadata": {},
   "outputs": [
    {
     "data": {
      "text/html": [
       "\n",
       "  <div id=\"dee04a5e-7288-4d38-9401-7af01f2d512e\" data-root-id=\"p1161\" style=\"display: contents;\"></div>\n"
      ]
     },
     "metadata": {},
     "output_type": "display_data"
    },
    {
     "data": {
      "application/javascript": [
       "(function(root) {\n",
       "  function embed_document(root) {\n",
       "  const docs_json = {\"11c3f7d5-e71b-474c-881d-ab92ce8b232f\":{\"version\":\"3.2.1\",\"title\":\"Bokeh Application\",\"roots\":[{\"type\":\"object\",\"name\":\"Tabs\",\"id\":\"p1161\",\"attributes\":{\"tabs\":[{\"type\":\"object\",\"name\":\"TabPanel\",\"id\":\"p1080\",\"attributes\":{\"title\":\"Roger Federer\",\"child\":{\"type\":\"object\",\"name\":\"Figure\",\"id\":\"p1041\",\"attributes\":{\"width\":800,\"height\":400,\"x_range\":{\"type\":\"object\",\"name\":\"FactorRange\",\"id\":\"p1051\",\"attributes\":{\"factors\":[\"2003\",\"2004\",\"2005\",\"2006\",\"2007\",\"2008\",\"2009\",\"2010\",\"2011\",\"2012\",\"2013\",\"2014\",\"2015\",\"2016\",\"2017\",\"2018\",\"2019\",\"2020\",\"2021\",\"2022\"]}},\"y_range\":{\"type\":\"object\",\"name\":\"DataRange1d\",\"id\":\"p1043\"},\"x_scale\":{\"type\":\"object\",\"name\":\"CategoricalScale\",\"id\":\"p1052\"},\"y_scale\":{\"type\":\"object\",\"name\":\"LinearScale\",\"id\":\"p1053\"},\"title\":{\"type\":\"object\",\"name\":\"Title\",\"id\":\"p1044\",\"attributes\":{\"text\":\"Big Three Grand Slam Wins\"}},\"renderers\":[{\"type\":\"object\",\"name\":\"GlyphRenderer\",\"id\":\"p1077\",\"attributes\":{\"data_source\":{\"type\":\"object\",\"name\":\"ColumnDataSource\",\"id\":\"p1071\",\"attributes\":{\"selected\":{\"type\":\"object\",\"name\":\"Selection\",\"id\":\"p1072\",\"attributes\":{\"indices\":[],\"line_indices\":[]}},\"selection_policy\":{\"type\":\"object\",\"name\":\"UnionRenderers\",\"id\":\"p1073\"},\"data\":{\"type\":\"map\",\"entries\":[[\"top\",{\"type\":\"ndarray\",\"array\":{\"type\":\"bytes\",\"data\":\"AQAAAAMAAAACAAAAAwAAAAMAAAABAAAAAgAAAAEAAAAAAAAAAQAAAAAAAAAAAAAAAAAAAAAAAAACAAAAAQAAAAAAAAAAAAAAAAAAAAAAAAA=\"},\"shape\":[20],\"dtype\":\"int32\",\"order\":\"little\"}],[\"x\",{\"type\":\"ndarray\",\"array\":[\"2003\",\"2004\",\"2005\",\"2006\",\"2007\",\"2008\",\"2009\",\"2010\",\"2011\",\"2012\",\"2013\",\"2014\",\"2015\",\"2016\",\"2017\",\"2018\",\"2019\",\"2020\",\"2021\",\"2022\"],\"shape\":[20],\"dtype\":\"object\",\"order\":\"little\"}]]}}},\"view\":{\"type\":\"object\",\"name\":\"CDSView\",\"id\":\"p1078\",\"attributes\":{\"filter\":{\"type\":\"object\",\"name\":\"AllIndices\",\"id\":\"p1079\"}}},\"glyph\":{\"type\":\"object\",\"name\":\"VBar\",\"id\":\"p1074\",\"attributes\":{\"x\":{\"type\":\"field\",\"field\":\"x\"},\"width\":{\"type\":\"value\",\"value\":0.9},\"top\":{\"type\":\"field\",\"field\":\"top\"},\"line_color\":{\"type\":\"value\",\"value\":\"#1f77b4\"},\"fill_color\":{\"type\":\"value\",\"value\":\"#1f77b4\"}}},\"nonselection_glyph\":{\"type\":\"object\",\"name\":\"VBar\",\"id\":\"p1075\",\"attributes\":{\"x\":{\"type\":\"field\",\"field\":\"x\"},\"width\":{\"type\":\"value\",\"value\":0.9},\"top\":{\"type\":\"field\",\"field\":\"top\"},\"line_color\":{\"type\":\"value\",\"value\":\"#1f77b4\"},\"line_alpha\":{\"type\":\"value\",\"value\":0.1},\"fill_color\":{\"type\":\"value\",\"value\":\"#1f77b4\"},\"fill_alpha\":{\"type\":\"value\",\"value\":0.1},\"hatch_alpha\":{\"type\":\"value\",\"value\":0.1}}},\"muted_glyph\":{\"type\":\"object\",\"name\":\"VBar\",\"id\":\"p1076\",\"attributes\":{\"x\":{\"type\":\"field\",\"field\":\"x\"},\"width\":{\"type\":\"value\",\"value\":0.9},\"top\":{\"type\":\"field\",\"field\":\"top\"},\"line_color\":{\"type\":\"value\",\"value\":\"#1f77b4\"},\"line_alpha\":{\"type\":\"value\",\"value\":0.2},\"fill_color\":{\"type\":\"value\",\"value\":\"#1f77b4\"},\"fill_alpha\":{\"type\":\"value\",\"value\":0.2},\"hatch_alpha\":{\"type\":\"value\",\"value\":0.2}}}}}],\"toolbar\":{\"type\":\"object\",\"name\":\"Toolbar\",\"id\":\"p1050\",\"attributes\":{\"tools\":[{\"type\":\"object\",\"name\":\"PanTool\",\"id\":\"p1064\"},{\"type\":\"object\",\"name\":\"WheelZoomTool\",\"id\":\"p1065\"},{\"type\":\"object\",\"name\":\"BoxZoomTool\",\"id\":\"p1066\",\"attributes\":{\"overlay\":{\"type\":\"object\",\"name\":\"BoxAnnotation\",\"id\":\"p1067\",\"attributes\":{\"syncable\":false,\"level\":\"overlay\",\"visible\":false,\"left_units\":\"canvas\",\"right_units\":\"canvas\",\"bottom_units\":\"canvas\",\"top_units\":\"canvas\",\"line_color\":\"black\",\"line_alpha\":1.0,\"line_width\":2,\"line_dash\":[4,4],\"fill_color\":\"lightgrey\",\"fill_alpha\":0.5}}}},{\"type\":\"object\",\"name\":\"SaveTool\",\"id\":\"p1068\"},{\"type\":\"object\",\"name\":\"ResetTool\",\"id\":\"p1069\"},{\"type\":\"object\",\"name\":\"HelpTool\",\"id\":\"p1070\"}]}},\"left\":[{\"type\":\"object\",\"name\":\"LinearAxis\",\"id\":\"p1059\",\"attributes\":{\"ticker\":{\"type\":\"object\",\"name\":\"BasicTicker\",\"id\":\"p1060\",\"attributes\":{\"mantissas\":[1,2,5]}},\"formatter\":{\"type\":\"object\",\"name\":\"BasicTickFormatter\",\"id\":\"p1061\"},\"major_label_policy\":{\"type\":\"object\",\"name\":\"AllLabels\",\"id\":\"p1062\"}}}],\"below\":[{\"type\":\"object\",\"name\":\"CategoricalAxis\",\"id\":\"p1054\",\"attributes\":{\"ticker\":{\"type\":\"object\",\"name\":\"CategoricalTicker\",\"id\":\"p1055\"},\"formatter\":{\"type\":\"object\",\"name\":\"CategoricalTickFormatter\",\"id\":\"p1056\"},\"major_label_policy\":{\"type\":\"object\",\"name\":\"AllLabels\",\"id\":\"p1057\"}}}],\"center\":[{\"type\":\"object\",\"name\":\"Grid\",\"id\":\"p1058\",\"attributes\":{\"axis\":{\"id\":\"p1054\"}}},{\"type\":\"object\",\"name\":\"Grid\",\"id\":\"p1063\",\"attributes\":{\"dimension\":1,\"axis\":{\"id\":\"p1059\"}}}]}}}},{\"type\":\"object\",\"name\":\"TabPanel\",\"id\":\"p1120\",\"attributes\":{\"title\":\"Rafael Nadal\",\"child\":{\"type\":\"object\",\"name\":\"Figure\",\"id\":\"p1081\",\"attributes\":{\"width\":800,\"height\":400,\"x_range\":{\"type\":\"object\",\"name\":\"FactorRange\",\"id\":\"p1091\",\"attributes\":{\"factors\":[\"2003\",\"2004\",\"2005\",\"2006\",\"2007\",\"2008\",\"2009\",\"2010\",\"2011\",\"2012\",\"2013\",\"2014\",\"2017\",\"2018\",\"2019\",\"2020\",\"2022\"]}},\"y_range\":{\"type\":\"object\",\"name\":\"DataRange1d\",\"id\":\"p1083\"},\"x_scale\":{\"type\":\"object\",\"name\":\"CategoricalScale\",\"id\":\"p1092\"},\"y_scale\":{\"type\":\"object\",\"name\":\"LinearScale\",\"id\":\"p1093\"},\"title\":{\"type\":\"object\",\"name\":\"Title\",\"id\":\"p1084\",\"attributes\":{\"text\":\"Big Three Grand Slam Wins\"}},\"renderers\":[{\"type\":\"object\",\"name\":\"GlyphRenderer\",\"id\":\"p1117\",\"attributes\":{\"data_source\":{\"type\":\"object\",\"name\":\"ColumnDataSource\",\"id\":\"p1111\",\"attributes\":{\"selected\":{\"type\":\"object\",\"name\":\"Selection\",\"id\":\"p1112\",\"attributes\":{\"indices\":[],\"line_indices\":[]}},\"selection_policy\":{\"type\":\"object\",\"name\":\"UnionRenderers\",\"id\":\"p1113\"},\"data\":{\"type\":\"map\",\"entries\":[[\"top\",{\"type\":\"ndarray\",\"array\":{\"type\":\"bytes\",\"data\":\"AAAAAAAAAAABAAAAAQAAAAEAAAACAAAAAQAAAAMAAAABAAAAAQAAAAIAAAABAAAAAgAAAAEAAAACAAAAAQAAAAIAAAA=\"},\"shape\":[17],\"dtype\":\"int32\",\"order\":\"little\"}],[\"x\",{\"type\":\"ndarray\",\"array\":[\"2003\",\"2004\",\"2005\",\"2006\",\"2007\",\"2008\",\"2009\",\"2010\",\"2011\",\"2012\",\"2013\",\"2014\",\"2017\",\"2018\",\"2019\",\"2020\",\"2022\"],\"shape\":[17],\"dtype\":\"object\",\"order\":\"little\"}]]}}},\"view\":{\"type\":\"object\",\"name\":\"CDSView\",\"id\":\"p1118\",\"attributes\":{\"filter\":{\"type\":\"object\",\"name\":\"AllIndices\",\"id\":\"p1119\"}}},\"glyph\":{\"type\":\"object\",\"name\":\"VBar\",\"id\":\"p1114\",\"attributes\":{\"x\":{\"type\":\"field\",\"field\":\"x\"},\"width\":{\"type\":\"value\",\"value\":0.9},\"top\":{\"type\":\"field\",\"field\":\"top\"},\"line_color\":{\"type\":\"value\",\"value\":\"#1f77b4\"},\"fill_color\":{\"type\":\"value\",\"value\":\"#1f77b4\"}}},\"nonselection_glyph\":{\"type\":\"object\",\"name\":\"VBar\",\"id\":\"p1115\",\"attributes\":{\"x\":{\"type\":\"field\",\"field\":\"x\"},\"width\":{\"type\":\"value\",\"value\":0.9},\"top\":{\"type\":\"field\",\"field\":\"top\"},\"line_color\":{\"type\":\"value\",\"value\":\"#1f77b4\"},\"line_alpha\":{\"type\":\"value\",\"value\":0.1},\"fill_color\":{\"type\":\"value\",\"value\":\"#1f77b4\"},\"fill_alpha\":{\"type\":\"value\",\"value\":0.1},\"hatch_alpha\":{\"type\":\"value\",\"value\":0.1}}},\"muted_glyph\":{\"type\":\"object\",\"name\":\"VBar\",\"id\":\"p1116\",\"attributes\":{\"x\":{\"type\":\"field\",\"field\":\"x\"},\"width\":{\"type\":\"value\",\"value\":0.9},\"top\":{\"type\":\"field\",\"field\":\"top\"},\"line_color\":{\"type\":\"value\",\"value\":\"#1f77b4\"},\"line_alpha\":{\"type\":\"value\",\"value\":0.2},\"fill_color\":{\"type\":\"value\",\"value\":\"#1f77b4\"},\"fill_alpha\":{\"type\":\"value\",\"value\":0.2},\"hatch_alpha\":{\"type\":\"value\",\"value\":0.2}}}}}],\"toolbar\":{\"type\":\"object\",\"name\":\"Toolbar\",\"id\":\"p1090\",\"attributes\":{\"tools\":[{\"type\":\"object\",\"name\":\"PanTool\",\"id\":\"p1104\"},{\"type\":\"object\",\"name\":\"WheelZoomTool\",\"id\":\"p1105\"},{\"type\":\"object\",\"name\":\"BoxZoomTool\",\"id\":\"p1106\",\"attributes\":{\"overlay\":{\"type\":\"object\",\"name\":\"BoxAnnotation\",\"id\":\"p1107\",\"attributes\":{\"syncable\":false,\"level\":\"overlay\",\"visible\":false,\"left_units\":\"canvas\",\"right_units\":\"canvas\",\"bottom_units\":\"canvas\",\"top_units\":\"canvas\",\"line_color\":\"black\",\"line_alpha\":1.0,\"line_width\":2,\"line_dash\":[4,4],\"fill_color\":\"lightgrey\",\"fill_alpha\":0.5}}}},{\"type\":\"object\",\"name\":\"SaveTool\",\"id\":\"p1108\"},{\"type\":\"object\",\"name\":\"ResetTool\",\"id\":\"p1109\"},{\"type\":\"object\",\"name\":\"HelpTool\",\"id\":\"p1110\"}]}},\"left\":[{\"type\":\"object\",\"name\":\"LinearAxis\",\"id\":\"p1099\",\"attributes\":{\"ticker\":{\"type\":\"object\",\"name\":\"BasicTicker\",\"id\":\"p1100\",\"attributes\":{\"mantissas\":[1,2,5]}},\"formatter\":{\"type\":\"object\",\"name\":\"BasicTickFormatter\",\"id\":\"p1101\"},\"major_label_policy\":{\"type\":\"object\",\"name\":\"AllLabels\",\"id\":\"p1102\"}}}],\"below\":[{\"type\":\"object\",\"name\":\"CategoricalAxis\",\"id\":\"p1094\",\"attributes\":{\"ticker\":{\"type\":\"object\",\"name\":\"CategoricalTicker\",\"id\":\"p1095\"},\"formatter\":{\"type\":\"object\",\"name\":\"CategoricalTickFormatter\",\"id\":\"p1096\"},\"major_label_policy\":{\"type\":\"object\",\"name\":\"AllLabels\",\"id\":\"p1097\"}}}],\"center\":[{\"type\":\"object\",\"name\":\"Grid\",\"id\":\"p1098\",\"attributes\":{\"axis\":{\"id\":\"p1094\"}}},{\"type\":\"object\",\"name\":\"Grid\",\"id\":\"p1103\",\"attributes\":{\"dimension\":1,\"axis\":{\"id\":\"p1099\"}}}]}}}},{\"type\":\"object\",\"name\":\"TabPanel\",\"id\":\"p1160\",\"attributes\":{\"title\":\"Novak Djokovic\",\"child\":{\"type\":\"object\",\"name\":\"Figure\",\"id\":\"p1121\",\"attributes\":{\"width\":800,\"height\":400,\"x_range\":{\"type\":\"object\",\"name\":\"FactorRange\",\"id\":\"p1131\",\"attributes\":{\"factors\":[\"2005\",\"2006\",\"2007\",\"2008\",\"2009\",\"2010\",\"2011\",\"2012\",\"2013\",\"2014\",\"2015\",\"2016\",\"2017\",\"2018\",\"2019\",\"2020\",\"2021\"]}},\"y_range\":{\"type\":\"object\",\"name\":\"DataRange1d\",\"id\":\"p1123\"},\"x_scale\":{\"type\":\"object\",\"name\":\"CategoricalScale\",\"id\":\"p1132\"},\"y_scale\":{\"type\":\"object\",\"name\":\"LinearScale\",\"id\":\"p1133\"},\"title\":{\"type\":\"object\",\"name\":\"Title\",\"id\":\"p1124\",\"attributes\":{\"text\":\"Big Three Grand Slam Wins\"}},\"renderers\":[{\"type\":\"object\",\"name\":\"GlyphRenderer\",\"id\":\"p1157\",\"attributes\":{\"data_source\":{\"type\":\"object\",\"name\":\"ColumnDataSource\",\"id\":\"p1151\",\"attributes\":{\"selected\":{\"type\":\"object\",\"name\":\"Selection\",\"id\":\"p1152\",\"attributes\":{\"indices\":[],\"line_indices\":[]}},\"selection_policy\":{\"type\":\"object\",\"name\":\"UnionRenderers\",\"id\":\"p1153\"},\"data\":{\"type\":\"map\",\"entries\":[[\"top\",{\"type\":\"ndarray\",\"array\":{\"type\":\"bytes\",\"data\":\"AAAAAAAAAAAAAAAAAQAAAAAAAAAAAAAAAwAAAAEAAAABAAAAAQAAAAMAAAACAAAAAAAAAAIAAAACAAAAAQAAAAMAAAA=\"},\"shape\":[17],\"dtype\":\"int32\",\"order\":\"little\"}],[\"x\",{\"type\":\"ndarray\",\"array\":[\"2005\",\"2006\",\"2007\",\"2008\",\"2009\",\"2010\",\"2011\",\"2012\",\"2013\",\"2014\",\"2015\",\"2016\",\"2017\",\"2018\",\"2019\",\"2020\",\"2021\"],\"shape\":[17],\"dtype\":\"object\",\"order\":\"little\"}]]}}},\"view\":{\"type\":\"object\",\"name\":\"CDSView\",\"id\":\"p1158\",\"attributes\":{\"filter\":{\"type\":\"object\",\"name\":\"AllIndices\",\"id\":\"p1159\"}}},\"glyph\":{\"type\":\"object\",\"name\":\"VBar\",\"id\":\"p1154\",\"attributes\":{\"x\":{\"type\":\"field\",\"field\":\"x\"},\"width\":{\"type\":\"value\",\"value\":0.9},\"top\":{\"type\":\"field\",\"field\":\"top\"},\"line_color\":{\"type\":\"value\",\"value\":\"#1f77b4\"},\"fill_color\":{\"type\":\"value\",\"value\":\"#1f77b4\"}}},\"nonselection_glyph\":{\"type\":\"object\",\"name\":\"VBar\",\"id\":\"p1155\",\"attributes\":{\"x\":{\"type\":\"field\",\"field\":\"x\"},\"width\":{\"type\":\"value\",\"value\":0.9},\"top\":{\"type\":\"field\",\"field\":\"top\"},\"line_color\":{\"type\":\"value\",\"value\":\"#1f77b4\"},\"line_alpha\":{\"type\":\"value\",\"value\":0.1},\"fill_color\":{\"type\":\"value\",\"value\":\"#1f77b4\"},\"fill_alpha\":{\"type\":\"value\",\"value\":0.1},\"hatch_alpha\":{\"type\":\"value\",\"value\":0.1}}},\"muted_glyph\":{\"type\":\"object\",\"name\":\"VBar\",\"id\":\"p1156\",\"attributes\":{\"x\":{\"type\":\"field\",\"field\":\"x\"},\"width\":{\"type\":\"value\",\"value\":0.9},\"top\":{\"type\":\"field\",\"field\":\"top\"},\"line_color\":{\"type\":\"value\",\"value\":\"#1f77b4\"},\"line_alpha\":{\"type\":\"value\",\"value\":0.2},\"fill_color\":{\"type\":\"value\",\"value\":\"#1f77b4\"},\"fill_alpha\":{\"type\":\"value\",\"value\":0.2},\"hatch_alpha\":{\"type\":\"value\",\"value\":0.2}}}}}],\"toolbar\":{\"type\":\"object\",\"name\":\"Toolbar\",\"id\":\"p1130\",\"attributes\":{\"tools\":[{\"type\":\"object\",\"name\":\"PanTool\",\"id\":\"p1144\"},{\"type\":\"object\",\"name\":\"WheelZoomTool\",\"id\":\"p1145\"},{\"type\":\"object\",\"name\":\"BoxZoomTool\",\"id\":\"p1146\",\"attributes\":{\"overlay\":{\"type\":\"object\",\"name\":\"BoxAnnotation\",\"id\":\"p1147\",\"attributes\":{\"syncable\":false,\"level\":\"overlay\",\"visible\":false,\"left_units\":\"canvas\",\"right_units\":\"canvas\",\"bottom_units\":\"canvas\",\"top_units\":\"canvas\",\"line_color\":\"black\",\"line_alpha\":1.0,\"line_width\":2,\"line_dash\":[4,4],\"fill_color\":\"lightgrey\",\"fill_alpha\":0.5}}}},{\"type\":\"object\",\"name\":\"SaveTool\",\"id\":\"p1148\"},{\"type\":\"object\",\"name\":\"ResetTool\",\"id\":\"p1149\"},{\"type\":\"object\",\"name\":\"HelpTool\",\"id\":\"p1150\"}]}},\"left\":[{\"type\":\"object\",\"name\":\"LinearAxis\",\"id\":\"p1139\",\"attributes\":{\"ticker\":{\"type\":\"object\",\"name\":\"BasicTicker\",\"id\":\"p1140\",\"attributes\":{\"mantissas\":[1,2,5]}},\"formatter\":{\"type\":\"object\",\"name\":\"BasicTickFormatter\",\"id\":\"p1141\"},\"major_label_policy\":{\"type\":\"object\",\"name\":\"AllLabels\",\"id\":\"p1142\"}}}],\"below\":[{\"type\":\"object\",\"name\":\"CategoricalAxis\",\"id\":\"p1134\",\"attributes\":{\"ticker\":{\"type\":\"object\",\"name\":\"CategoricalTicker\",\"id\":\"p1135\"},\"formatter\":{\"type\":\"object\",\"name\":\"CategoricalTickFormatter\",\"id\":\"p1136\"},\"major_label_policy\":{\"type\":\"object\",\"name\":\"AllLabels\",\"id\":\"p1137\"}}}],\"center\":[{\"type\":\"object\",\"name\":\"Grid\",\"id\":\"p1138\",\"attributes\":{\"axis\":{\"id\":\"p1134\"}}},{\"type\":\"object\",\"name\":\"Grid\",\"id\":\"p1143\",\"attributes\":{\"dimension\":1,\"axis\":{\"id\":\"p1139\"}}}]}}}}]}}]}};\n",
       "  const render_items = [{\"docid\":\"11c3f7d5-e71b-474c-881d-ab92ce8b232f\",\"roots\":{\"p1161\":\"dee04a5e-7288-4d38-9401-7af01f2d512e\"},\"root_ids\":[\"p1161\"]}];\n",
       "  root.Bokeh.embed.embed_items_notebook(docs_json, render_items);\n",
       "  }\n",
       "  if (root.Bokeh !== undefined) {\n",
       "    embed_document(root);\n",
       "  } else {\n",
       "    let attempts = 0;\n",
       "    const timer = setInterval(function(root) {\n",
       "      if (root.Bokeh !== undefined) {\n",
       "        clearInterval(timer);\n",
       "        embed_document(root);\n",
       "      } else {\n",
       "        attempts++;\n",
       "        if (attempts > 100) {\n",
       "          clearInterval(timer);\n",
       "          console.log(\"Bokeh: ERROR: Unable to run BokehJS code because BokehJS library is missing\");\n",
       "        }\n",
       "      }\n",
       "    }, 10, root)\n",
       "  }\n",
       "})(window);"
      ],
      "application/vnd.bokehjs_exec.v0+json": ""
     },
     "metadata": {
      "application/vnd.bokehjs_exec.v0+json": {
       "id": "p1161"
      }
     },
     "output_type": "display_data"
    }
   ],
   "source": [
    "\n",
    "from bokeh.models.layouts import TabPanel, Tabs            #IMPORT THIS FOR PANELS/TABS\n",
    "\n",
    "years = [2003,2004,2005,2006,2007,2008,2009,2010,2011,2012,2013,2014,2015,2016,2017,2018,2019,2020,2021,2022]\n",
    "for year in years:\n",
    "    if year not in grouped[grouped['WINNER'] == 'Roger Federer']['YEAR'].unique():\n",
    "        grouped = pd.concat([pd.DataFrame({'YEAR': [year], 'WINNER': ['Roger Federer'], 'TOURNAMENT': [0]}), \n",
    "                              grouped], ignore_index = True)\n",
    "    elif year not in grouped[grouped['WINNER'] == 'Rafael Nadal']['YEAR'].unique():\n",
    "        grouped = pd.concat([pd.DataFrame({'YEAR': [year], 'WINNER': ['Rafael Nadal'], 'TOURNAMENT': [0]}), \n",
    "                              grouped], ignore_index = True)\n",
    "    elif year not in grouped[grouped['WINNER'] == 'Novak Djokovic']['YEAR'].unique():\n",
    "        grouped = pd.concat([pd.DataFrame({'YEAR': [year], 'WINNER': ['Novak Djokovic'], 'TOURNAMENT': [0]}), \n",
    "                              grouped], ignore_index = True)\n",
    "    else:\n",
    "        pass\n",
    "\n",
    "grouped= grouped.sort_values(by = ['WINNER', 'YEAR'], ascending = [False, True])\n",
    "\n",
    "fed_data = grouped[grouped['WINNER'] == 'Roger Federer'].copy()\n",
    "nadal_data = grouped[grouped['WINNER'] == 'Rafael Nadal'].copy()\n",
    "djoko_data = grouped[grouped['WINNER'] == 'Novak Djokovic'].copy()\n",
    "\n",
    "fed_data['YEAR'] = fed_data['YEAR'].astype(str)\n",
    "nadal_data['YEAR'] = nadal_data['YEAR'].astype(str)\n",
    "djoko_data['YEAR'] = djoko_data['YEAR'].astype(str)\n",
    "\n",
    "p = figure(x_range = fed_data['YEAR'], width = 800, height = 400, title = 'Big Three Grand Slam Wins')\n",
    "p.vbar(fed_data['YEAR'], top = fed_data['TOURNAMENT'], width = 0.9)\n",
    "tab1 = TabPanel(child = p, title = 'Roger Federer')\n",
    "\n",
    "p2 = figure(x_range = nadal_data['YEAR'], width = 800, height = 400, title = 'Big Three Grand Slam Wins')\n",
    "p2.vbar(nadal_data['YEAR'], top = nadal_data['TOURNAMENT'], width = 0.9)\n",
    "tab2 = TabPanel(child = p2, title = 'Rafael Nadal')\n",
    "\n",
    "p3 = figure(x_range = djoko_data['YEAR'], width = 800, height = 400, title = 'Big Three Grand Slam Wins')\n",
    "p3.vbar(djoko_data['YEAR'], top = djoko_data['TOURNAMENT'], width = 0.9)\n",
    "tab3 = TabPanel(child = p3, title = 'Novak Djokovic')\n",
    "\n",
    "tabs = Tabs(tabs = [tab1, tab2, tab3])\n",
    "\n",
    "\n",
    "show(tabs)\n"
   ]
  },
  {
   "cell_type": "markdown",
   "id": "152e7800",
   "metadata": {},
   "source": [
    "If you click on each player's tab, you can switch to their specific bar chart.\n",
    "<br><br>\n",
    "As we click through the tabs between the different player's bar charts, notice that it seems like the majority of Federer's Grand Slam wins came between 2003-2010, whereas Nadal and Djokovic have had more of their wins from 2010 onward. When fans debate who among the Big Three is truly the greatest ever, they point to Grand Slam titles. However, since Federer's prime was so much earlier than Djokovic and Nadal, it is hard to truly determine who was the best player in their prime.\n",
    "<br><br>\n",
    "To try to come up with the best comparison we can let's compare their wins from 2008-2012, a time period where all three players were playing at a high level. To do this I will make a grouped bar chart using bokeh, so that we can see all three player's statistics in one graph, allowing for easy comparisons"
   ]
  },
  {
   "cell_type": "code",
   "execution_count": 7,
   "id": "355cb98d",
   "metadata": {},
   "outputs": [
    {
     "data": {
      "text/html": [
       "\n",
       "  <div id=\"ed32f6e1-29fc-4a81-a384-77412993d6c1\" data-root-id=\"p1169\" style=\"display: contents;\"></div>\n"
      ]
     },
     "metadata": {},
     "output_type": "display_data"
    },
    {
     "data": {
      "application/javascript": [
       "(function(root) {\n",
       "  function embed_document(root) {\n",
       "  const docs_json = {\"a8b586ee-e913-4d24-ba59-6caf0ea31d0f\":{\"version\":\"3.2.1\",\"title\":\"Bokeh Application\",\"roots\":[{\"type\":\"object\",\"name\":\"Figure\",\"id\":\"p1169\",\"attributes\":{\"width\":800,\"height\":400,\"x_range\":{\"type\":\"object\",\"name\":\"FactorRange\",\"id\":\"p1168\",\"attributes\":{\"factors\":[[\"Roger Federer\",\"2008\"],[\"Roger Federer\",\"2009\"],[\"Roger Federer\",\"2010\"],[\"Roger Federer\",\"2011\"],[\"Roger Federer\",\"2012\"],[\"Rafael Nadal\",\"2008\"],[\"Rafael Nadal\",\"2009\"],[\"Rafael Nadal\",\"2010\"],[\"Rafael Nadal\",\"2011\"],[\"Rafael Nadal\",\"2012\"],[\"Novak Djokovic\",\"2008\"],[\"Novak Djokovic\",\"2009\"],[\"Novak Djokovic\",\"2010\"],[\"Novak Djokovic\",\"2011\"],[\"Novak Djokovic\",\"2012\"]]}},\"y_range\":{\"type\":\"object\",\"name\":\"DataRange1d\",\"id\":\"p1171\"},\"x_scale\":{\"type\":\"object\",\"name\":\"CategoricalScale\",\"id\":\"p1179\"},\"y_scale\":{\"type\":\"object\",\"name\":\"LinearScale\",\"id\":\"p1180\"},\"title\":{\"type\":\"object\",\"name\":\"Title\",\"id\":\"p1172\",\"attributes\":{\"text\":\"Grand Slam Wins for the Big Three 2008-2012\"}},\"renderers\":[{\"type\":\"object\",\"name\":\"GlyphRenderer\",\"id\":\"p1204\",\"attributes\":{\"data_source\":{\"type\":\"object\",\"name\":\"ColumnDataSource\",\"id\":\"p1165\",\"attributes\":{\"selected\":{\"type\":\"object\",\"name\":\"Selection\",\"id\":\"p1166\",\"attributes\":{\"indices\":[],\"line_indices\":[]}},\"selection_policy\":{\"type\":\"object\",\"name\":\"UnionRenderers\",\"id\":\"p1167\"},\"data\":{\"type\":\"map\",\"entries\":[[\"x\",[[\"Roger Federer\",\"2008\"],[\"Roger Federer\",\"2009\"],[\"Roger Federer\",\"2010\"],[\"Roger Federer\",\"2011\"],[\"Roger Federer\",\"2012\"],[\"Rafael Nadal\",\"2008\"],[\"Rafael Nadal\",\"2009\"],[\"Rafael Nadal\",\"2010\"],[\"Rafael Nadal\",\"2011\"],[\"Rafael Nadal\",\"2012\"],[\"Novak Djokovic\",\"2008\"],[\"Novak Djokovic\",\"2009\"],[\"Novak Djokovic\",\"2010\"],[\"Novak Djokovic\",\"2011\"],[\"Novak Djokovic\",\"2012\"]]],[\"counts\",{\"type\":\"ndarray\",\"array\":{\"type\":\"bytes\",\"data\":\"AQAAAAIAAAABAAAAAAAAAAEAAAACAAAAAQAAAAMAAAABAAAAAQAAAAEAAAAAAAAAAAAAAAMAAAABAAAA\"},\"shape\":[15],\"dtype\":\"int32\",\"order\":\"little\"}]]}}},\"view\":{\"type\":\"object\",\"name\":\"CDSView\",\"id\":\"p1205\",\"attributes\":{\"filter\":{\"type\":\"object\",\"name\":\"AllIndices\",\"id\":\"p1206\"}}},\"glyph\":{\"type\":\"object\",\"name\":\"VBar\",\"id\":\"p1201\",\"attributes\":{\"x\":{\"type\":\"field\",\"field\":\"x\"},\"width\":{\"type\":\"value\",\"value\":0.9},\"top\":{\"type\":\"field\",\"field\":\"counts\"},\"line_color\":{\"type\":\"value\",\"value\":\"#1f77b4\"},\"fill_color\":{\"type\":\"value\",\"value\":\"#1f77b4\"}}},\"nonselection_glyph\":{\"type\":\"object\",\"name\":\"VBar\",\"id\":\"p1202\",\"attributes\":{\"x\":{\"type\":\"field\",\"field\":\"x\"},\"width\":{\"type\":\"value\",\"value\":0.9},\"top\":{\"type\":\"field\",\"field\":\"counts\"},\"line_color\":{\"type\":\"value\",\"value\":\"#1f77b4\"},\"line_alpha\":{\"type\":\"value\",\"value\":0.1},\"fill_color\":{\"type\":\"value\",\"value\":\"#1f77b4\"},\"fill_alpha\":{\"type\":\"value\",\"value\":0.1},\"hatch_alpha\":{\"type\":\"value\",\"value\":0.1}}},\"muted_glyph\":{\"type\":\"object\",\"name\":\"VBar\",\"id\":\"p1203\",\"attributes\":{\"x\":{\"type\":\"field\",\"field\":\"x\"},\"width\":{\"type\":\"value\",\"value\":0.9},\"top\":{\"type\":\"field\",\"field\":\"counts\"},\"line_color\":{\"type\":\"value\",\"value\":\"#1f77b4\"},\"line_alpha\":{\"type\":\"value\",\"value\":0.2},\"fill_color\":{\"type\":\"value\",\"value\":\"#1f77b4\"},\"fill_alpha\":{\"type\":\"value\",\"value\":0.2},\"hatch_alpha\":{\"type\":\"value\",\"value\":0.2}}}}}],\"toolbar\":{\"type\":\"object\",\"name\":\"Toolbar\",\"id\":\"p1178\",\"attributes\":{\"tools\":[{\"type\":\"object\",\"name\":\"PanTool\",\"id\":\"p1191\"},{\"type\":\"object\",\"name\":\"WheelZoomTool\",\"id\":\"p1192\"},{\"type\":\"object\",\"name\":\"BoxZoomTool\",\"id\":\"p1193\",\"attributes\":{\"overlay\":{\"type\":\"object\",\"name\":\"BoxAnnotation\",\"id\":\"p1194\",\"attributes\":{\"syncable\":false,\"level\":\"overlay\",\"visible\":false,\"left_units\":\"canvas\",\"right_units\":\"canvas\",\"bottom_units\":\"canvas\",\"top_units\":\"canvas\",\"line_color\":\"black\",\"line_alpha\":1.0,\"line_width\":2,\"line_dash\":[4,4],\"fill_color\":\"lightgrey\",\"fill_alpha\":0.5}}}},{\"type\":\"object\",\"name\":\"SaveTool\",\"id\":\"p1195\"},{\"type\":\"object\",\"name\":\"ResetTool\",\"id\":\"p1196\"},{\"type\":\"object\",\"name\":\"HelpTool\",\"id\":\"p1197\"}]}},\"left\":[{\"type\":\"object\",\"name\":\"LinearAxis\",\"id\":\"p1186\",\"attributes\":{\"ticker\":{\"type\":\"object\",\"name\":\"BasicTicker\",\"id\":\"p1187\",\"attributes\":{\"mantissas\":[1,2,5]}},\"formatter\":{\"type\":\"object\",\"name\":\"BasicTickFormatter\",\"id\":\"p1188\"},\"major_label_policy\":{\"type\":\"object\",\"name\":\"AllLabels\",\"id\":\"p1189\"}}}],\"below\":[{\"type\":\"object\",\"name\":\"CategoricalAxis\",\"id\":\"p1181\",\"attributes\":{\"ticker\":{\"type\":\"object\",\"name\":\"CategoricalTicker\",\"id\":\"p1182\"},\"formatter\":{\"type\":\"object\",\"name\":\"CategoricalTickFormatter\",\"id\":\"p1183\"},\"major_label_policy\":{\"type\":\"object\",\"name\":\"AllLabels\",\"id\":\"p1184\"}}}],\"center\":[{\"type\":\"object\",\"name\":\"Grid\",\"id\":\"p1185\",\"attributes\":{\"axis\":{\"id\":\"p1181\"}}},{\"type\":\"object\",\"name\":\"Grid\",\"id\":\"p1190\",\"attributes\":{\"dimension\":1,\"axis\":{\"id\":\"p1186\"}}}]}}]}};\n",
       "  const render_items = [{\"docid\":\"a8b586ee-e913-4d24-ba59-6caf0ea31d0f\",\"roots\":{\"p1169\":\"ed32f6e1-29fc-4a81-a384-77412993d6c1\"},\"root_ids\":[\"p1169\"]}];\n",
       "  root.Bokeh.embed.embed_items_notebook(docs_json, render_items);\n",
       "  }\n",
       "  if (root.Bokeh !== undefined) {\n",
       "    embed_document(root);\n",
       "  } else {\n",
       "    let attempts = 0;\n",
       "    const timer = setInterval(function(root) {\n",
       "      if (root.Bokeh !== undefined) {\n",
       "        clearInterval(timer);\n",
       "        embed_document(root);\n",
       "      } else {\n",
       "        attempts++;\n",
       "        if (attempts > 100) {\n",
       "          clearInterval(timer);\n",
       "          console.log(\"Bokeh: ERROR: Unable to run BokehJS code because BokehJS library is missing\");\n",
       "        }\n",
       "      }\n",
       "    }, 10, root)\n",
       "  }\n",
       "})(window);"
      ],
      "application/vnd.bokehjs_exec.v0+json": ""
     },
     "metadata": {
      "application/vnd.bokehjs_exec.v0+json": {
       "id": "p1169"
      }
     },
     "output_type": "display_data"
    }
   ],
   "source": [
    "\n",
    "from bokeh.models import ColumnDataSource, FactorRange\n",
    "from bokeh.plotting import figure, show\n",
    "\n",
    "#GETTING JUST THE DATA FROM 2008-2012\n",
    "\n",
    "fed_data = grouped[grouped['WINNER'] == 'Roger Federer']\n",
    "nadal_data = grouped[grouped['WINNER'] == 'Rafael Nadal']\n",
    "djoko_data = grouped[grouped['WINNER'] == 'Novak Djokovic']\n",
    "\n",
    "years = [2003,2004,2005,2006,2007,2008,2009,2010,2011,2012,2013,2014,2015,2016,2017,2018,2019,2020,2021,2022]\n",
    "for year in years:\n",
    "    if year not in fed_data['YEAR'].unique():\n",
    "        grouped = pd.concat([pd.DataFrame({'YEAR': [year], 'WINNER': ['Roger Federer'], 'TOURNAMENT': [0]}), \n",
    "                              grouped], ignore_index = True)\n",
    "    elif year not in nadal_data['YEAR'].unique():\n",
    "        grouped = pd.concat([pd.DataFrame({'YEAR': [year], 'WINNER': ['Rafael Nadal'], 'TOURNAMENT': [0]}), \n",
    "                              grouped], ignore_index = True)\n",
    "    elif year not in djoko_data['YEAR'].unique():\n",
    "        grouped = pd.concat([pd.DataFrame({'YEAR': [year], 'WINNER': ['Novak Djokovic'], 'TOURNAMENT': [0]}), \n",
    "                              grouped], ignore_index = True)\n",
    "    else:\n",
    "        pass\n",
    "     \n",
    "    \n",
    "grouped= grouped.sort_values(by = ['WINNER', 'YEAR'], ascending = [False, True])\n",
    "\n",
    "data_2008_2012 = grouped[(grouped['YEAR'] == 2008)|(grouped['YEAR'] == 2009)|\n",
    "                         (grouped['YEAR'] == 2010)|(grouped['YEAR'] == 2011)|\n",
    "                         (grouped['YEAR'] == 2012)]\n",
    "\n",
    "\n",
    "#MAKING THE CHART\n",
    "x = [(player, str(year)) for player in list(data_2008_2012['WINNER'].unique())\n",
    "     for year in list(data_2008_2012['YEAR'].unique())]\n",
    "\n",
    "counts = data_2008_2012['TOURNAMENT']\n",
    "source = ColumnDataSource(data = dict(x = x, counts = counts))  \n",
    "\n",
    "\n",
    "p = figure(x_range = FactorRange(*x),width = 800, height = 400, title = 'Grand Slam Wins for the Big Three 2008-2012')\n",
    "p.vbar(x = 'x', top = 'counts', width = 0.9, source = source)\n",
    "\n",
    "\n",
    "show(p)\n"
   ]
  },
  {
   "cell_type": "markdown",
   "id": "30b24c15",
   "metadata": {},
   "source": [
    "Based on the above chart, it looks like all three had success during this time period, however while Federer and Djokovic had years where they didn't win any Grand Slams, only Nadal consistently won at least one Grand Slam every year from 2008-2012, when all the players were playing at a high level.\n",
    "<br><br>\n",
    "Finally, since we are talking about Grand Slam tournaments, it might be interesting to see how the prize money given to the winner of each tournament has grown over the years. To do this I will use a line chart, because it will be helpful to allow us to see the trends over many years. Also I will color code the line for each tournament, and implement the bokeh function to be able to hide and show lines on the graph by clicking on the legend."
   ]
  },
  {
   "cell_type": "code",
   "execution_count": 8,
   "id": "d3a60774",
   "metadata": {},
   "outputs": [
    {
     "data": {
      "text/html": [
       "\n",
       "  <div id=\"fcf14690-988d-4ba0-959a-34dd1af427e1\" data-root-id=\"p1208\" style=\"display: contents;\"></div>\n"
      ]
     },
     "metadata": {},
     "output_type": "display_data"
    },
    {
     "data": {
      "application/javascript": [
       "(function(root) {\n",
       "  function embed_document(root) {\n",
       "  const docs_json = {\"c4f468a9-2a9d-4118-a3b6-1a4d122ef22a\":{\"version\":\"3.2.1\",\"title\":\"Bokeh Application\",\"roots\":[{\"type\":\"object\",\"name\":\"Figure\",\"id\":\"p1208\",\"attributes\":{\"width\":800,\"height\":300,\"x_range\":{\"type\":\"object\",\"name\":\"DataRange1d\",\"id\":\"p1209\"},\"y_range\":{\"type\":\"object\",\"name\":\"DataRange1d\",\"id\":\"p1210\"},\"x_scale\":{\"type\":\"object\",\"name\":\"LinearScale\",\"id\":\"p1218\"},\"y_scale\":{\"type\":\"object\",\"name\":\"LinearScale\",\"id\":\"p1219\"},\"title\":{\"type\":\"object\",\"name\":\"Title\",\"id\":\"p1211\",\"attributes\":{\"text\":\"Grand Slam Prize Money\"}},\"renderers\":[{\"type\":\"object\",\"name\":\"GlyphRenderer\",\"id\":\"p1243\",\"attributes\":{\"data_source\":{\"type\":\"object\",\"name\":\"ColumnDataSource\",\"id\":\"p1237\",\"attributes\":{\"selected\":{\"type\":\"object\",\"name\":\"Selection\",\"id\":\"p1238\",\"attributes\":{\"indices\":[],\"line_indices\":[]}},\"selection_policy\":{\"type\":\"object\",\"name\":\"UnionRenderers\",\"id\":\"p1239\"},\"data\":{\"type\":\"map\",\"entries\":[[\"x\",{\"type\":\"ndarray\",\"array\":{\"type\":\"bytes\",\"data\":\"5gcAAOUHAADkBwAA4wcAAOIHAADhBwAA4AcAAN8HAADeBwAA3QcAANwHAADbBwAA2gcAANkHAADYBwAA1wcAANYHAADVBwAA1AcAANMHAADSBwAA0QcAANAHAADPBwAAzgcAAM0HAADMBwAAywcAAMoHAADJBwAAyAcAAMcHAADGBwAAxQcAAMQHAADDBwAAwQcAAMAHAAC/BwAAvgcAAL0HAAC8BwAAuwcAALoHAAC4BwAAtwcAALYHAAC1BwAAtAcAALMHAAA=\"},\"shape\":[50],\"dtype\":\"int32\",\"order\":\"little\"}],[\"y\",{\"type\":\"ndarray\",\"array\":{\"type\":\"bytes\",\"data\":\"AAAAAODIUEEAAAAAPO9FQQAAAADgbk9BAAAAANBHT0EAAAAAgIROQQAAAACQOkxBAAAAAKDwSUEAAAAAsKZHQQAAAADIN0RBAAAAABiKQkEAAAAAMIxBQQAAAADgyEBBAAAAAJAFQEEAAAAAgIQ+QQAAAACQ5zRBAAAAAOiLM0EAAAAAoJ0yQQAAAABcaTJBAAAAAIBPMkEAAAAAqjUxQQAAAACAhC5BAAAAAEhYKUEAAAAAcAonQQAAAACgCCZBAAAAALDEIkEAAAAAUNohQQAAAACgJiFBAAAAAABMHUEAAAAAgBMcQQAAAABABhlBAAAAAAD5FUEAAAAAAIgTQQAAAACsRhBBAAAAAAAXAUEAAAAAgKL5QAAAAAAwXPlAAAAAAABq+EAAAAAAAGr4QAAAAAAAavhAAAAAAMDr8kAAAAAAAJTxQAAAAAAAQO9AAAAAAOBr6EAAAAAA4GvoQAAAAAAA3L9AAAAAAAAJwkAAAAAAAGS5QAAAAAAAXrpAAAAAAABAn0AAAAAAAJTBQA==\"},\"shape\":[50],\"dtype\":\"float64\",\"order\":\"little\"}]]}}},\"view\":{\"type\":\"object\",\"name\":\"CDSView\",\"id\":\"p1244\",\"attributes\":{\"filter\":{\"type\":\"object\",\"name\":\"AllIndices\",\"id\":\"p1245\"}}},\"glyph\":{\"type\":\"object\",\"name\":\"Line\",\"id\":\"p1240\",\"attributes\":{\"x\":{\"type\":\"field\",\"field\":\"x\"},\"y\":{\"type\":\"field\",\"field\":\"y\"},\"line_color\":\"blue\",\"line_alpha\":0.8,\"line_width\":2}},\"nonselection_glyph\":{\"type\":\"object\",\"name\":\"Line\",\"id\":\"p1241\",\"attributes\":{\"x\":{\"type\":\"field\",\"field\":\"x\"},\"y\":{\"type\":\"field\",\"field\":\"y\"},\"line_color\":\"blue\",\"line_alpha\":0.1,\"line_width\":2}},\"muted_glyph\":{\"type\":\"object\",\"name\":\"Line\",\"id\":\"p1242\",\"attributes\":{\"x\":{\"type\":\"field\",\"field\":\"x\"},\"y\":{\"type\":\"field\",\"field\":\"y\"},\"line_color\":\"blue\",\"line_alpha\":0.2,\"line_width\":2}}}},{\"type\":\"object\",\"name\":\"GlyphRenderer\",\"id\":\"p1254\",\"attributes\":{\"data_source\":{\"type\":\"object\",\"name\":\"ColumnDataSource\",\"id\":\"p1248\",\"attributes\":{\"selected\":{\"type\":\"object\",\"name\":\"Selection\",\"id\":\"p1249\",\"attributes\":{\"indices\":[],\"line_indices\":[]}},\"selection_policy\":{\"type\":\"object\",\"name\":\"UnionRenderers\",\"id\":\"p1250\"},\"data\":{\"type\":\"map\",\"entries\":[[\"x\",{\"type\":\"ndarray\",\"array\":{\"type\":\"bytes\",\"data\":\"5gcAAOUHAADkBwAA4wcAAOIHAADhBwAA4AcAAN8HAADeBwAA3QcAANwHAADbBwAA2gcAANkHAADYBwAA1wcAANYHAADVBwAA1AcAANMHAADSBwAA0QcAANAHAADPBwAAzgcAAM0HAADMBwAAywcAAMoHAADJBwAAyAcAAMcHAADGBwAAxQcAAMQHAADDBwAAwgcAAMEHAADABwAAvwcAAL4HAAC9BwAAvAcAALsHAAC6BwAAuQcAALgHAAC3BwAAtgcAALUHAAC0BwAAswcAALIHAACxBwAAsAcAAA==\"},\"shape\":[55],\"dtype\":\"int32\",\"order\":\"little\"}],[\"y\",{\"type\":\"ndarray\",\"array\":{\"type\":\"bytes\",\"data\":\"AAAAALCIPEEAAAAAwFw1QQAAAAAAajhBAAAAADCMQUEAAAAA4MhAQQAAAACQBUBBAAAAAICEPkEAAAAAQHc7QQAAAABQLTlBAAAAAGDjNkEAAAAA0BIzQQAAAACATzJBAAAAAAAXMUEAAAAAoCwwQQAAAACAhC5BAAAAAICELkEAAAAAwK8sQQAAAAAA2ypBAAAAAMA+KkEAAAAAgKIpQQAAAADAzSdBAAAAAKRPUUEAAAAAoCxQQQAAAACg0k5BAAAAAHBjTUEAAAAAEPxLQQAAAAAwVkpBAAAAAGBUSUEAAAAA4BtIQQAAAABgckRBAAAAAGByREEAAAAAQK1CQQAAAADa+0BBAAAAAJ5VO0EAAAAAUOQ2QQAAAAD45DNBAAAAAAJSNUEAAAAAWGs0QQAAAAAoJzBBAAAAAICEHkEAAAAAAGoYQQAAAACAhA5BAAAAAED6CkEAAAAAAGQJQQAAAACAoglBAAAAAIAxB0EAAAAAAL3/QAAAAAAATP1AAAAAAABM/UAAAAAAABfxQAAAAAAAcOdAAAAAAABw50AAAAAAAFjrQAAAAAAAF+FAAAAAAABMzUA=\"},\"shape\":[55],\"dtype\":\"float64\",\"order\":\"little\"}]]}}},\"view\":{\"type\":\"object\",\"name\":\"CDSView\",\"id\":\"p1255\",\"attributes\":{\"filter\":{\"type\":\"object\",\"name\":\"AllIndices\",\"id\":\"p1256\"}}},\"glyph\":{\"type\":\"object\",\"name\":\"Line\",\"id\":\"p1251\",\"attributes\":{\"x\":{\"type\":\"field\",\"field\":\"x\"},\"y\":{\"type\":\"field\",\"field\":\"y\"},\"line_color\":\"orange\",\"line_alpha\":0.8,\"line_width\":2}},\"nonselection_glyph\":{\"type\":\"object\",\"name\":\"Line\",\"id\":\"p1252\",\"attributes\":{\"x\":{\"type\":\"field\",\"field\":\"x\"},\"y\":{\"type\":\"field\",\"field\":\"y\"},\"line_color\":\"orange\",\"line_alpha\":0.1,\"line_width\":2}},\"muted_glyph\":{\"type\":\"object\",\"name\":\"Line\",\"id\":\"p1253\",\"attributes\":{\"x\":{\"type\":\"field\",\"field\":\"x\"},\"y\":{\"type\":\"field\",\"field\":\"y\"},\"line_color\":\"orange\",\"line_alpha\":0.2,\"line_width\":2}}}},{\"type\":\"object\",\"name\":\"GlyphRenderer\",\"id\":\"p1264\",\"attributes\":{\"data_source\":{\"type\":\"object\",\"name\":\"ColumnDataSource\",\"id\":\"p1258\",\"attributes\":{\"selected\":{\"type\":\"object\",\"name\":\"Selection\",\"id\":\"p1259\",\"attributes\":{\"indices\":[],\"line_indices\":[]}},\"selection_policy\":{\"type\":\"object\",\"name\":\"UnionRenderers\",\"id\":\"p1260\"},\"data\":{\"type\":\"map\",\"entries\":[[\"x\",{\"type\":\"ndarray\",\"array\":{\"type\":\"bytes\",\"data\":\"5QcAAOMHAADiBwAA4QcAAOAHAADfBwAA3gcAAN0HAADcBwAA2wcAANoHAADZBwAA2AcAANcHAADWBwAA1QcAANQHAADTBwAA0gcAANEHAADQBwAAzwcAAM4HAADNBwAAzAcAAMsHAADKBwAAyQcAAMgHAADHBwAAxgcAAMUHAADEBwAAwwcAAMIHAADBBwAAwAcAAL8HAAC+BwAAvQcAALwHAAC7BwAAugcAALkHAAC4BwAAtwcAALYHAAC1BwAAtAcAALMHAACyBwAAsQcAALAHAAA=\"},\"shape\":[53],\"dtype\":\"int32\",\"order\":\"little\"}],[\"y\",{\"type\":\"ndarray\",\"array\":{\"type\":\"bytes\",\"data\":\"AAAAAKDwOUEAAAAA2O1BQQAAAACIKkFBAAAAAODIQEEAAAAAgIQ+QQAAAADArzxBAAAAAADbOkEAAAAAAGo4QQAAAAAwjDFBAAAAAODIMEEAAAAAgIQuQQAAAACg8ClBAAAAAGDjJkEAAAAAwFwlQQAAAAAw/SNBAAAAAOA5I0EAAAAACGMiQQAAAAAwjCFBAAAAAJAFIEEAAAAAgIQeQQAAAADwJB1BAAAAAGDFG0EAAAAA4IwaQQAAAABgVBlBAAAAAND0F0EAAAAAIEcWQQAAAACgDhVBAAAAAKCdEkEAAAAAoCwQQQAAAAAATA1BAAAAAIATDEEAAAAAgDEHQQAAAABAJARBAAAAAMDrAkEAAAAAABcBQQAAAAAAvf9AAAAAAABq+EAAAAAAgELwQAAAAACgWeRAAAAAAAAY1UAAAAAAAIjTQAAAAAAAiNNAAAAAAACO0kAAAAAAAEzNQAAAAAAAashAAAAAAACIw0AAAAAAAIjDQAAAAAAAiLNAAAAAAACIs0AAAAAAAEytQAAAAAAAcKdAAAAAAABwp0AAAAAAAECfQA==\"},\"shape\":[53],\"dtype\":\"float64\",\"order\":\"little\"}]]}}},\"view\":{\"type\":\"object\",\"name\":\"CDSView\",\"id\":\"p1265\",\"attributes\":{\"filter\":{\"type\":\"object\",\"name\":\"AllIndices\",\"id\":\"p1266\"}}},\"glyph\":{\"type\":\"object\",\"name\":\"Line\",\"id\":\"p1261\",\"attributes\":{\"x\":{\"type\":\"field\",\"field\":\"x\"},\"y\":{\"type\":\"field\",\"field\":\"y\"},\"line_color\":\"green\",\"line_alpha\":0.8,\"line_width\":2}},\"nonselection_glyph\":{\"type\":\"object\",\"name\":\"Line\",\"id\":\"p1262\",\"attributes\":{\"x\":{\"type\":\"field\",\"field\":\"x\"},\"y\":{\"type\":\"field\",\"field\":\"y\"},\"line_color\":\"green\",\"line_alpha\":0.1,\"line_width\":2}},\"muted_glyph\":{\"type\":\"object\",\"name\":\"Line\",\"id\":\"p1263\",\"attributes\":{\"x\":{\"type\":\"field\",\"field\":\"x\"},\"y\":{\"type\":\"field\",\"field\":\"y\"},\"line_color\":\"green\",\"line_alpha\":0.2,\"line_width\":2}}}},{\"type\":\"object\",\"name\":\"GlyphRenderer\",\"id\":\"p1274\",\"attributes\":{\"data_source\":{\"type\":\"object\",\"name\":\"ColumnDataSource\",\"id\":\"p1268\",\"attributes\":{\"selected\":{\"type\":\"object\",\"name\":\"Selection\",\"id\":\"p1269\",\"attributes\":{\"indices\":[],\"line_indices\":[]}},\"selection_policy\":{\"type\":\"object\",\"name\":\"UnionRenderers\",\"id\":\"p1270\"},\"data\":{\"type\":\"map\",\"entries\":[[\"x\",{\"type\":\"ndarray\",\"array\":{\"type\":\"bytes\",\"data\":\"5QcAAOQHAADjBwAA4gcAAOEHAADgBwAA3wcAAN4HAADdBwAA3AcAANsHAADaBwAA2QcAANgHAADXBwAA1gcAANUHAADUBwAA0wcAANIHAADRBwAA0AcAAM8HAADOBwAAzQcAAMwHAADLBwAAygcAAMkHAADIBwAAxwcAAMYHAADFBwAAxAcAAMMHAADCBwAAwQcAAMAHAAC/BwAAvgcAAL0HAAC8BwAAuwcAALoHAAC5BwAAuAcAALcHAAC2BwAAtQcAALQHAACzBwAAsgcAALEHAACwBwAA\"},\"shape\":[54],\"dtype\":\"int32\",\"order\":\"little\"}],[\"y\",{\"type\":\"ndarray\",\"array\":{\"type\":\"bytes\",\"data\":\"AAAAANASQ0EAAAAA0BJDQQAAAACIX01BAAAAAOD9TEEAAAAAkDpMQQAAAADws0pBAAAAAFAtSUEAAAAAYONGQQAAAAAg1kNBAAAAAOD9PEEAAAAAQHc7QQAAAACg8DlBAAAAAABqOEEAAAAAYOM2QQAAAADAXDVBAAAAAIBPMkEAAAAA4MgwQQAAAACAhC5BAAAAAICELkEAAAAAQHcrQQAAAACg8ClBAAAAAABqKEEAAAAAYOMmQQAAAADAXCVBAAAAACDWI0EAAAAAgE8iQQAAAAAwjCFBAAAAAODIIEEAAAAAsFMgQQAAAACAhB5BAAAAAABqGEEAAAAAwFwVQQAAAACATxJBAAAAAODIEEEAAAAAgIQOQQAAAACAoglBAAAAAGDjBkEAAAAAAIgDQQAAAAAATP1AAAAAAAD59UAAAAAAAB3wQAAAAAAAduZAAAAAAAAL40AAAAAAAI7iQAAAAAAAHeBAAAAAAABM3UAAAAAAAGrYQAAAAAAA+dVAAAAAAABq2EAAAAAAAGrYQAAAAAAATM1AAAAAAACI00AAAAAAAEDPQAAAAAAAWMtA\"},\"shape\":[54],\"dtype\":\"float64\",\"order\":\"little\"}]]}}},\"view\":{\"type\":\"object\",\"name\":\"CDSView\",\"id\":\"p1275\",\"attributes\":{\"filter\":{\"type\":\"object\",\"name\":\"AllIndices\",\"id\":\"p1276\"}}},\"glyph\":{\"type\":\"object\",\"name\":\"Line\",\"id\":\"p1271\",\"attributes\":{\"x\":{\"type\":\"field\",\"field\":\"x\"},\"y\":{\"type\":\"field\",\"field\":\"y\"},\"line_color\":\"red\",\"line_alpha\":0.8,\"line_width\":2}},\"nonselection_glyph\":{\"type\":\"object\",\"name\":\"Line\",\"id\":\"p1272\",\"attributes\":{\"x\":{\"type\":\"field\",\"field\":\"x\"},\"y\":{\"type\":\"field\",\"field\":\"y\"},\"line_color\":\"red\",\"line_alpha\":0.1,\"line_width\":2}},\"muted_glyph\":{\"type\":\"object\",\"name\":\"Line\",\"id\":\"p1273\",\"attributes\":{\"x\":{\"type\":\"field\",\"field\":\"x\"},\"y\":{\"type\":\"field\",\"field\":\"y\"},\"line_color\":\"red\",\"line_alpha\":0.2,\"line_width\":2}}}}],\"toolbar\":{\"type\":\"object\",\"name\":\"Toolbar\",\"id\":\"p1217\",\"attributes\":{\"tools\":[{\"type\":\"object\",\"name\":\"PanTool\",\"id\":\"p1230\"},{\"type\":\"object\",\"name\":\"WheelZoomTool\",\"id\":\"p1231\"},{\"type\":\"object\",\"name\":\"BoxZoomTool\",\"id\":\"p1232\",\"attributes\":{\"overlay\":{\"type\":\"object\",\"name\":\"BoxAnnotation\",\"id\":\"p1233\",\"attributes\":{\"syncable\":false,\"level\":\"overlay\",\"visible\":false,\"left_units\":\"canvas\",\"right_units\":\"canvas\",\"bottom_units\":\"canvas\",\"top_units\":\"canvas\",\"line_color\":\"black\",\"line_alpha\":1.0,\"line_width\":2,\"line_dash\":[4,4],\"fill_color\":\"lightgrey\",\"fill_alpha\":0.5}}}},{\"type\":\"object\",\"name\":\"SaveTool\",\"id\":\"p1234\"},{\"type\":\"object\",\"name\":\"ResetTool\",\"id\":\"p1235\"},{\"type\":\"object\",\"name\":\"HelpTool\",\"id\":\"p1236\"}]}},\"left\":[{\"type\":\"object\",\"name\":\"LinearAxis\",\"id\":\"p1225\",\"attributes\":{\"ticker\":{\"type\":\"object\",\"name\":\"BasicTicker\",\"id\":\"p1226\",\"attributes\":{\"mantissas\":[1,2,5]}},\"formatter\":{\"type\":\"object\",\"name\":\"BasicTickFormatter\",\"id\":\"p1227\"},\"major_label_policy\":{\"type\":\"object\",\"name\":\"AllLabels\",\"id\":\"p1228\"}}}],\"below\":[{\"type\":\"object\",\"name\":\"LinearAxis\",\"id\":\"p1220\",\"attributes\":{\"ticker\":{\"type\":\"object\",\"name\":\"BasicTicker\",\"id\":\"p1221\",\"attributes\":{\"mantissas\":[1,2,5]}},\"formatter\":{\"type\":\"object\",\"name\":\"BasicTickFormatter\",\"id\":\"p1222\"},\"major_label_policy\":{\"type\":\"object\",\"name\":\"AllLabels\",\"id\":\"p1223\"}}}],\"center\":[{\"type\":\"object\",\"name\":\"Grid\",\"id\":\"p1224\",\"attributes\":{\"axis\":{\"id\":\"p1220\"}}},{\"type\":\"object\",\"name\":\"Grid\",\"id\":\"p1229\",\"attributes\":{\"dimension\":1,\"axis\":{\"id\":\"p1225\"}}},{\"type\":\"object\",\"name\":\"Legend\",\"id\":\"p1246\",\"attributes\":{\"location\":\"top_left\",\"click_policy\":\"hide\",\"items\":[{\"type\":\"object\",\"name\":\"LegendItem\",\"id\":\"p1247\",\"attributes\":{\"label\":{\"type\":\"value\",\"value\":\"Australian Open\"},\"renderers\":[{\"id\":\"p1243\"}]}},{\"type\":\"object\",\"name\":\"LegendItem\",\"id\":\"p1257\",\"attributes\":{\"label\":{\"type\":\"value\",\"value\":\"French Open\"},\"renderers\":[{\"id\":\"p1254\"}]}},{\"type\":\"object\",\"name\":\"LegendItem\",\"id\":\"p1267\",\"attributes\":{\"label\":{\"type\":\"value\",\"value\":\"Wimbledon\"},\"renderers\":[{\"id\":\"p1264\"}]}},{\"type\":\"object\",\"name\":\"LegendItem\",\"id\":\"p1277\",\"attributes\":{\"label\":{\"type\":\"value\",\"value\":\"U.S. Open\"},\"renderers\":[{\"id\":\"p1274\"}]}}]}}]}}]}};\n",
       "  const render_items = [{\"docid\":\"c4f468a9-2a9d-4118-a3b6-1a4d122ef22a\",\"roots\":{\"p1208\":\"fcf14690-988d-4ba0-959a-34dd1af427e1\"},\"root_ids\":[\"p1208\"]}];\n",
       "  root.Bokeh.embed.embed_items_notebook(docs_json, render_items);\n",
       "  }\n",
       "  if (root.Bokeh !== undefined) {\n",
       "    embed_document(root);\n",
       "  } else {\n",
       "    let attempts = 0;\n",
       "    const timer = setInterval(function(root) {\n",
       "      if (root.Bokeh !== undefined) {\n",
       "        clearInterval(timer);\n",
       "        embed_document(root);\n",
       "      } else {\n",
       "        attempts++;\n",
       "        if (attempts > 100) {\n",
       "          clearInterval(timer);\n",
       "          console.log(\"Bokeh: ERROR: Unable to run BokehJS code because BokehJS library is missing\");\n",
       "        }\n",
       "      }\n",
       "    }, 10, root)\n",
       "  }\n",
       "})(window);"
      ],
      "application/vnd.bokehjs_exec.v0+json": ""
     },
     "metadata": {
      "application/vnd.bokehjs_exec.v0+json": {
       "id": "p1208"
      }
     },
     "output_type": "display_data"
    }
   ],
   "source": [
    "\n",
    "aussie = df[df['TOURNAMENT'] == 'Australian Open'].reset_index(drop = True)\n",
    "aussie = aussie[['YEAR', 'WINNER_PRIZE']].dropna()\n",
    "\n",
    "french = df[df['TOURNAMENT'] == 'French Open'].reset_index(drop = True)\n",
    "french = french[['YEAR', 'WINNER_PRIZE']].dropna()\n",
    "\n",
    "wimby = df[df['TOURNAMENT'] == 'Wimbledon'].reset_index(drop = True)\n",
    "wimby = wimby[['YEAR', 'WINNER_PRIZE']].dropna()\n",
    "\n",
    "uso = df[df['TOURNAMENT'] == 'U.S. Open'].reset_index(drop = True)\n",
    "uso = uso[['YEAR', 'WINNER_PRIZE']].dropna()\n",
    "\n",
    "p = figure(width = 800, height = 300, title = 'Grand Slam Prize Money')\n",
    "p.line(aussie['YEAR'], aussie['WINNER_PRIZE'], line_width=2, color = 'blue', alpha = 0.8, \n",
    "       legend_label = 'Australian Open')\n",
    "p.line(french['YEAR'], french['WINNER_PRIZE'], line_width=2, color = 'orange', alpha = 0.8,\n",
    "       legend_label = 'French Open')\n",
    "p.line(wimby['YEAR'], wimby['WINNER_PRIZE'], line_width=2, color = 'green', alpha = 0.8, \n",
    "       legend_label = 'Wimbledon')\n",
    "p.line(uso['YEAR'], uso['WINNER_PRIZE'], line_width=2, color = 'red', alpha = 0.8,\n",
    "       legend_label = 'U.S. Open')\n",
    "\n",
    "p.legend.location = 'top_left'\n",
    "p.legend.click_policy=\"hide\"\n",
    "\n",
    "\n",
    "\n",
    "show(p)"
   ]
  },
  {
   "cell_type": "markdown",
   "id": "57a2e617",
   "metadata": {},
   "source": [
    "If you click on each of the tournament names on the legend, you will be able to hide the line for that tournament, which is a useful feature if you only want to look at one particular tournament's data, or compare two.\n",
    "<br><br>\n",
    "We can see that over the years the prize money has steadily been increasing. However, interestingly we see a sudden\n",
    "drop in prize money for the French Open around 2001. The reason for this is that the French currency changed from\n",
    "the Franc to the Euro, so the valuation of the prize money changed as a result."
   ]
  },
  {
   "cell_type": "markdown",
   "id": "a5f8c888-5bbe-4a40-b4e0-dd6d666678bf",
   "metadata": {},
   "source": [
    "## References"
   ]
  },
  {
   "cell_type": "markdown",
   "id": "9a0ce904-1338-4f08-a27a-77178267a128",
   "metadata": {},
   "source": [
    "https://blog.logrocket.com/python-data-visualization-bokeh-jupyter-notebook/ \n",
    "<br>\n",
    "https://www.geeksforgeeks.org/python-bokeh-plotting-a-scatter-plot-on-a-graph/\n",
    "<br>\n",
    "https://bokeh.org/roadmap/\n",
    "<br>\n",
    "https://bokeh.org/\n",
    "<br>\n",
    "https://www.analyticsvidhya.com/blog/2021/05/gentle-introduction-to-bokeh-interactive-python-plotting-library/\n",
    "<br>\n",
    "https://docs.bokeh.org/en/latest/docs/first_steps/installation.html\n",
    "<br>\n",
    "https://docs.bokeh.org/en/latest/docs/examples/basic/bars/nested.html\n",
    "<br>\n",
    "https://towardsdatascience.com/interactive-bar-charts-with-bokeh-7230e5653ba3\n",
    "<br>\n",
    "https://docs.bokeh.org/en/latest/docs/user_guide/styling.html#visible-property\n",
    "<br>\n",
    "https://docs.bokeh.org/en/1.0.4/docs/reference/models/widgets.panels.html\n",
    "<br>\n",
    "https://docs.bokeh.org/en/latest/docs/examples/basic/bars/basic.html\n",
    "<br>\n",
    "https://docs.bokeh.org/en/latest/docs/examples/interaction/legends/legend_hide.html\n"
   ]
  },
  {
   "cell_type": "code",
   "execution_count": null,
   "id": "1d094b81-4e76-4a50-88ad-313c450e40a7",
   "metadata": {},
   "outputs": [],
   "source": []
  }
 ],
 "metadata": {
  "kernelspec": {
   "display_name": "Python 3 (ipykernel)",
   "language": "python",
   "name": "python3"
  },
  "language_info": {
   "codemirror_mode": {
    "name": "ipython",
    "version": 3
   },
   "file_extension": ".py",
   "mimetype": "text/x-python",
   "name": "python",
   "nbconvert_exporter": "python",
   "pygments_lexer": "ipython3",
   "version": "3.11.5"
  }
 },
 "nbformat": 4,
 "nbformat_minor": 5
}
